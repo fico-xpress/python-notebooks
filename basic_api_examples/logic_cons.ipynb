{
 "cells": [
  {
   "cell_type": "markdown",
   "metadata": {},
   "source": [
    "# **Using general (logic) constraints**"
   ]
  },
  {
   "cell_type": "markdown",
   "metadata": {},
   "source": [
    "***logic_cons.ipynb***\n",
    "\n",
    "In this example we use the and/or operators of the FICO&reg; Xpress Python interface to state a MIP optimization problem with logic constraints.\n",
    "\n",
    "Solve a simple SAT problem by finding the solution with the fewest <i>True</i> variables that satisfy all clauses.\n",
    "\n",
    "&copy; Copyright 2025 Fair Isaac Corporation\n",
    "\n",
    "Licensed under the Apache License, Version 2.0 (the \"License\"); you may not use this file except in compliance with the License. You may obtain a copy of the License at http://www.apache.org/licenses/LICENSE-2.0.\n",
    " \n",
    "Unless required by applicable law or agreed to in writing, software distributed under the License is distributed on an \"AS IS\" BASIS, WITHOUT WARRANTIES OR CONDITIONS OF ANY KIND, either express or implied. See the License for the specific language governing permissions and limitations under the License.\n",
    "\n",
    "This example uses FICO&reg; Xpress software. By running it, you agree to the Community License terms of the [Xpress Shrinkwrap License Agreement](https://community.fico.com/s/contentdocument/06980000002h0i5AAA) with respect to the FICO&reg; Xpress software. See the [licensing options](https://www.fico.com/en/fico-xpress-trial-and-licensing-options) overview for additional details and information about obtaining a paid license."
   ]
  },
  {
   "cell_type": "code",
   "execution_count": null,
   "metadata": {},
   "outputs": [],
   "source": [
    "# Install the xpress package\n",
    "%pip install -q xpress"
   ]
  },
  {
   "cell_type": "markdown",
   "metadata": {},
   "source": [
    "Start by importing the xpress Python package, create an Xpress problem, and add two scalar objects and a list of variables used in this example."
   ]
  },
  {
   "cell_type": "code",
   "execution_count": 1,
   "metadata": {},
   "outputs": [],
   "source": [
    "import xpress as xp\n",
    "\n",
    "p = xp.problem()\n",
    "\n",
    "N = 10\n",
    "k = 5\n",
    "\n",
    "x = [p.addVariable(vartype=xp.binary) for _ in range(N)]"
   ]
  },
  {
   "cell_type": "markdown",
   "metadata": {},
   "source": [
    "The following constraint ensures that at most one of each pair of variables $x$ can be *True*, by using the Python native '**&**' operator. \n",
    "\n",
    "The same effect could be obtained by using the [xpress.And()](https://www.fico.com/fico-xpress-optimization/docs/latest/solver/optimizer/python/HTML/xpress.And.html) operator, which returns a logical *AND* of two or more binary variables or expressions passed as arguments."
   ]
  },
  {
   "cell_type": "code",
   "execution_count": null,
   "metadata": {},
   "outputs": [],
   "source": [
    "cons0 = [(x[i] & x[i+1]) == 0 for i in range(0, N-1, 2)] \n",
    "\n",
    "# or equivalently\n",
    "#cons0 = [xp.And(x[i],x[i+1]) == 0 for i in range(0, N-1, 2)] "
   ]
  },
  {
   "cell_type": "markdown",
   "metadata": {},
   "source": [
    "The next constraint assumes that at least a quarter of all OR clauses on contiguous groups of k clauses must be *True*, by using the [xpress.Or()](https://www.fico.com/fico-xpress-optimization/docs/latest/solver/optimizer/python/HTML/xpress.Or.html) operator, which returns a logical *OR* of two or more binary variables or expressions passed as arguments."
   ]
  },
  {
   "cell_type": "code",
   "execution_count": 3,
   "metadata": {},
   "outputs": [],
   "source": [
    "cons1 = xp.Sum(xp.Or(*(x[i:i+k])) for i in range(N-k)) >= N/4"
   ]
  },
  {
   "cell_type": "markdown",
   "metadata": {},
   "source": [
    "Both constraints are added to the problem, and the problem is solved with a time limit of 5 seconds."
   ]
  },
  {
   "cell_type": "code",
   "execution_count": 4,
   "metadata": {},
   "outputs": [
    {
     "name": "stdout",
     "output_type": "stream",
     "text": [
      "Original problem size\n",
      "   linear:    6 rows, 10 columns, 0 linear coefficients\n",
      "   nonlinear: 6 coefficients, 59 tokens\n",
      "             10 minmax          0 pwl         0 ufun\n",
      "Nonlinear presolve\n",
      "   compressing formula space (in use\\total : 65\\178)\n",
      "   removed 8 formulas and 112 formula tokens\n",
      "   converted 10 MIN/MAX to optimizer MIP constructs\n",
      "   linearizations will be solved as a MIP\n",
      "   converted 6 formulas to linear constraints\n",
      "   linear presolve removed 16 rows, 1 columns, 32 linear coefficients\n",
      "   creating 1 '+' clusters removed 2 tokens\n",
      "Presolved problem size\n",
      "   linear:    15 rows, 20 columns, 73 linear coefficients\n",
      "Problem is nonlinear presolved\n",
      "Minimizing problem using Xpress-Optimizer\n",
      "FICO Xpress v9.5.3, Hyper, solve started 16:44:01, Feb 17, 2025\n",
      "Heap usage: 2178KB (peak 2188KB, 310KB system)\n",
      "Minimizing MILP noname using up to 20 threads and up to 31GB memory, with these control settings:\n",
      "OUTPUTLOG = 1\n",
      "IFCHECKCONVEXITY = 0\n",
      "TIMELIMIT = 5\n",
      "NLPPOSTSOLVE = 1\n",
      "XSLP_DELETIONCONTROL = 0\n",
      "XSLP_OBJSENSE = 1\n",
      "Original problem has:\n",
      "        15 rows           20 cols           73 elements         9 entities\n",
      "Presolved problem has:\n",
      "        15 rows           14 cols           73 elements         9 entities\n",
      "Presolve finished in 0 seconds\n",
      "Heap usage: 2213KB (peak 2214KB, 310KB system)\n",
      "\n",
      "Coefficient range                    original                 solved        \n",
      "  Coefficients   [min,max] : [ 2.00e-01,  1.00e+00] / [ 2.00e-01,  1.00e+00]\n",
      "  RHS and bounds [min,max] : [ 1.00e+00,  2.50e+00] / [ 1.00e+00,  2.50e+00]\n",
      "  Objective      [min,max] : [      0.0,       0.0] / [      0.0,       0.0]\n",
      "Autoscaling applied standard scaling\n",
      "\n",
      "Will try to keep branch and bound tree memory usage below 23.2GB\n",
      "Starting concurrent solve with dual (1 thread)\n",
      "\n",
      " Concurrent-Solve,   0s\n",
      "            Dual        \n",
      "    objective   dual inf\n",
      " D   .0000000   .0000000\n",
      "                        \n",
      "------- optimal --------\n",
      "Concurrent statistics:\n",
      "           Dual: 4 simplex iterations, 0.00s\n",
      "Optimal solution found\n",
      " \n",
      "   Its         Obj Value      S   Ninf  Nneg   Sum Dual Inf  Time\n",
      "     4           .000000      D      0     0        .000000     0\n",
      "Dual solved problem\n",
      "  4 simplex iterations in 0.00 seconds at time 0\n",
      "\n",
      "Final objective                       : 0.000000000000000e+00\n",
      "  Max primal violation      (abs/rel) :       0.0 /       0.0\n",
      "  Max dual violation        (abs/rel) :       0.0 /       0.0\n",
      "  Max complementarity viol. (abs/rel) :       0.0 /       0.0\n",
      "\n",
      "Starting root cutting & heuristics\n",
      "Deterministic mode with up to 4 additional threads\n",
      " \n",
      " Its Type    BestSoln    BestBound   Sols    Add    Del     Gap     GInf   Time\n",
      "a             .000000      .000000      1               0.0e+00        0      0\n",
      " *** Search completed ***\n",
      "Uncrunching matrix\n",
      "Final MIP objective                   : 0.000000000000000e-01\n",
      "Final MIP bound                       : 0.000000000000000e-01\n",
      "  Solution time / primaldual integral :      0.02s/ 82.771939%\n",
      "  Number of solutions found / nodes   :         1 /         1\n",
      "  Max primal violation      (abs/rel) :       0.0 /       0.0\n",
      "  Max integer violation     (abs    ) :       0.0\n",
      "Problem is nonlinear postsolved\n",
      "Heap usage: 904KB (peak 5738KB, 95KB system)\n",
      "Final NLP objective (global optimum)  : 0.000000000000000e+00\n",
      "  Max validation error      (abs/rel) :      .000 /      .000\n",
      "  Max primal violation      (abs/rel) :       0.0 /       0.0\n",
      "  Observed primal integral            :  100.000%\n",
      "  Total time                          :     .022s\n",
      "  Time checks                         :     5 \n",
      "*** Search completed ***\n",
      "solution: x =  [1.0, 0.0, 0.0, 1.0, 1.0, 0.0, 0.0, 0.0, 0.0, 0.0]\n"
     ]
    }
   ],
   "source": [
    "p.addConstraint(cons0, cons1)\n",
    "\n",
    "p.controls.timelimit = 5\n",
    "p.optimize()\n",
    "\n",
    "print(\"solution: x = \", p.getSolution())"
   ]
  }
 ],
 "metadata": {
  "kernelspec": {
   "display_name": "Python 3",
   "language": "python",
   "name": "python3"
  },
  "language_info": {
   "codemirror_mode": {
    "name": "ipython",
    "version": 3
   },
   "file_extension": ".py",
   "mimetype": "text/x-python",
   "name": "python",
   "nbconvert_exporter": "python",
   "pygments_lexer": "ipython3",
   "version": "3.12.9"
  }
 },
 "nbformat": 4,
 "nbformat_minor": 2
}
