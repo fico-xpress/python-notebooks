{
 "cells": [
  {
   "cell_type": "markdown",
   "metadata": {},
   "source": [
    "# **Using the numerical library *NumPy***"
   ]
  },
  {
   "cell_type": "markdown",
   "metadata": {},
   "source": [
    "***numpy_arrays.ipynb***\n",
    "\n",
    "An example of a problem formulation that uses multi-dimensional *NumPy* arrays and the [xpress.Dot()](https://www.fico.com/fico-xpress-optimization/docs/latest/solver/optimizer/python/HTML/xpress.Dot.html) operator to formulate constraints simply and efficiently.\n",
    "\n",
    "&copy; Copyright 2025 Fair Isaac Corporation\n",
    "\n",
    "Licensed under the Apache License, Version 2.0 (the \"License\"); you may not use this file except in compliance with the License. You may obtain a copy of the License at http://www.apache.org/licenses/LICENSE-2.0.\n",
    " \n",
    "Unless required by applicable law or agreed to in writing, software distributed under the License is distributed on an \"AS IS\" BASIS, WITHOUT WARRANTIES OR CONDITIONS OF ANY KIND, either express or implied. See the License for the specific language governing permissions and limitations under the License.\n",
    "\n",
    "This example uses FICO&reg; Xpress software. By running it, you agree to the Community License terms of the [Xpress Shrinkwrap License Agreement](https://community.fico.com/s/contentdocument/06980000002h0i5AAA) with respect to the FICO&reg; Xpress software. See the [licensing options](https://www.fico.com/en/fico-xpress-trial-and-licensing-options) overview for additional details and information about obtaining a paid license."
   ]
  },
  {
   "cell_type": "code",
   "execution_count": null,
   "metadata": {},
   "outputs": [],
   "source": [
    "# Install the xpress package\n",
    "%pip install -q xpress"
   ]
  },
  {
   "cell_type": "markdown",
   "metadata": {},
   "source": [
    "Start by importing the *NumPy* and *xpress* packages, create two random matrices and an instance of an Xpress problem."
   ]
  },
  {
   "cell_type": "code",
   "execution_count": null,
   "metadata": {},
   "outputs": [],
   "source": [
    "import xpress as xp\n",
    "import numpy as np\n",
    "\n",
    "rndseed = 10\n",
    "np.random.seed(rndseed)\n",
    "\n",
    "A = np.random.random(30).reshape(6, 5)  # A is a 6x5 matrix\n",
    "Q = np.random.random(25).reshape(5, 5)  # Q is a 5x5 matrix\n",
    "\n",
    "p = xp.problem()"
   ]
  },
  {
   "cell_type": "markdown",
   "metadata": {},
   "source": [
    "Add a *NumPy* array of variables. By using [problem.addVariables()](https://www.fico.com/fico-xpress-optimization/docs/latest/solver/optimizer/python/HTML/problem.addVariables.html) with an integer argument, a *NumPy* array of variables is created.\n",
    "\n",
    "A term with the identity matrix multiplied by four is then added to the matrix stored in object $Q$."
   ]
  },
  {
   "cell_type": "code",
   "execution_count": 2,
   "metadata": {},
   "outputs": [],
   "source": [
    "x = p.addVariables(5)     # Create Numpy array of 5 variables\n",
    "\n",
    "Q += 4 * np.eye(5)        # Add 4 * the identity matrix to the previous Q matrix"
   ]
  },
  {
   "cell_type": "markdown",
   "metadata": {},
   "source": [
    "In the code cell below:\n",
    "  - The <tt>Lin_sys</tt> object contains six linear constraints originating from the *dot* product between the matrix $A$ and vector $x$, with the right-hand side of each constraint passed as an *NumPy* array.\n",
    "\n",
    "  - <tt>Conv_c</tt> defines a convex quadratic constraint obtained by the *dot* product between the $x$ vector multiplied by itself and by the matrix $Q$."
   ]
  },
  {
   "cell_type": "code",
   "execution_count": 3,
   "metadata": {},
   "outputs": [],
   "source": [
    "Lin_sys = xp.Dot(A, x) <= np.array([3, 4, 1, 4, 8, 7])  # Creates 6 linear constraints\n",
    "\n",
    "Conv_c = xp.Dot(x, Q, x) <= 1                           # Creates 1 quadratic constraint\n",
    "\n",
    "p.addConstraint(Lin_sys, Conv_c)"
   ]
  },
  {
   "cell_type": "markdown",
   "metadata": {},
   "source": [
    "Add a convex quadratic objective function by using the *dot* product on variables $x$ minus a randomly generated vector, and optimize the problem."
   ]
  },
  {
   "cell_type": "code",
   "execution_count": 4,
   "metadata": {},
   "outputs": [
    {
     "name": "stdout",
     "output_type": "stream",
     "text": [
      "FICO Xpress v9.5.3, Hyper, solve started 14:07:16, Feb 18, 2025\n",
      "Heap usage: 389KB (peak 389KB, 85KB system)\n",
      "Minimizing QCQP noname using up to 20 threads and up to 31GB memory, with these control settings:\n",
      "OUTPUTLOG = 1\n",
      "NLPPOSTSOLVE = 1\n",
      "XSLP_DELETIONCONTROL = 0\n",
      "XSLP_OBJSENSE = 1\n",
      "Original problem has:\n",
      "         7 rows            5 cols           30 elements\n",
      "         5 qobjelem        1 qrows          15 qrowelem\n",
      "Presolved problem has:\n",
      "         2 rows            5 cols            5 elements\n",
      "         5 qobjelem        1 qrows          15 qrowelem\n",
      "Presolve finished in 0 seconds\n",
      "Heap usage: 390KB (peak 402KB, 85KB system)\n",
      "\n",
      "Coefficient range                    original                 solved        \n",
      "  Coefficients   [min,max] : [ 3.95e-03,  9.53e-01] / [ 3.95e-03,  9.53e-01]\n",
      "  RHS and bounds [min,max] : [ 1.00e+00,  8.00e+00] / [ 1.25e-01,  1.00e+00]\n",
      "  Objective      [min,max] : [ 5.03e-01,  1.98e+00] / [ 5.03e-01,  1.98e+00]\n",
      "  Quadratic      [min,max] : [ 3.16e-01,  9.61e+00] / [ 3.95e-02,  2.00e+00]\n",
      "Autoscaling applied standard scaling\n",
      "\n",
      "Using AVX2 support\n",
      "Cores per CPU (CORESPERCPU): 20\n",
      "Barrier starts after 0 seconds, using up to 20 threads, 14 cores\n",
      "Matrix ordering - Dense cols.:      5   NZ(L):        35   Flops:          112\n",
      " \n",
      "  Its   P.inf      D.inf      U.inf      Primal obj.     Dual obj.      Compl.\n",
      "   0   1.77e+01   2.63e+02   0.00e+00   8.9581633e+00  -1.6098552e+03   1.4e+03\n",
      "   1   5.22e+00   2.01e+02   0.00e+00   4.2069457e+00  -7.9362843e+02   2.0e+02\n",
      "   2   9.72e-01   7.54e+01   0.00e+00   1.5913748e+00  -1.7932370e+02   2.6e+01\n",
      "   3   3.33e-01   3.72e+01   0.00e+00   1.0321794e+00  -6.0266166e+01   6.2e+00\n",
      "   4   1.37e-01   1.25e+01   0.00e+00   2.0390883e+00  -4.0289534e+01   1.0e+01\n",
      "   5   2.86e-02   2.00e+00   0.00e+00   2.0141365e+00  -2.7714596e+00   8.7e-01\n",
      "   6   8.71e-02   7.85e-01   0.00e+00   1.5143884e+00  -2.3940666e+00   1.8e+00\n",
      "   7   3.50e-02   6.69e-02   0.00e+00   1.4320291e+00   1.1165532e+00   2.1e-01\n",
      "   8   2.24e-03   9.22e-03   0.00e+00   1.5826015e+00   1.5804917e+00   8.0e-03\n",
      "   9   2.75e-05   1.71e-04   0.00e+00   1.5921639e+00   1.5920633e+00   6.2e-05\n",
      "  10   2.98e-08   2.09e-07   0.00e+00   1.5923075e+00   1.5923074e+00   6.2e-08\n",
      "Barrier method finished in 0 seconds\n",
      "Uncrunching matrix\n",
      "Optimal solution found\n",
      "Barrier solved problem\n",
      "  10 barrier iterations in 0.03 seconds at time 0\n",
      "\n",
      "Final objective                       : 1.592307504432281e+00\n",
      "  Max primal violation      (abs/rel) : 3.040e-07 / 3.040e-07\n",
      "  Max dual violation        (abs/rel) :       0.0 /       0.0\n",
      "  Max complementarity viol. (abs/rel) : 1.140e-07 / 1.489e-08\n"
     ]
    }
   ],
   "source": [
    "x0 = np.random.random(5)     # Random vector\n",
    "\n",
    "p.setObjective(xp.Dot(x-x0, x-x0))\n",
    "\n",
    "p.optimize()\n",
    "\n",
    "p.write(\"numpy.lp\")"
   ]
  }
 ],
 "metadata": {
  "kernelspec": {
   "display_name": "Python 3",
   "language": "python",
   "name": "python3"
  },
  "language_info": {
   "codemirror_mode": {
    "name": "ipython",
    "version": 3
   },
   "file_extension": ".py",
   "mimetype": "text/x-python",
   "name": "python",
   "nbconvert_exporter": "python",
   "pygments_lexer": "ipython3",
   "version": "3.12.9"
  }
 },
 "nbformat": 4,
 "nbformat_minor": 2
}
