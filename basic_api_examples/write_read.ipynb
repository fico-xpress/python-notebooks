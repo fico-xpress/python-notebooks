{
 "cells": [
  {
   "cell_type": "markdown",
   "metadata": {},
   "source": [
    "# **Writing and reading problem files**"
   ]
  },
  {
   "cell_type": "markdown",
   "metadata": {},
   "source": [
    "***write_read.ipynb***\n",
    "\n",
    "In this notebook, we create a basic problem, save it to a file and then read that file into a new problem and solve it.\n",
    "\n",
    "&copy; Copyright 2025 Fair Isaac Corporation\n",
    "\n",
    "Licensed under the Apache License, Version 2.0 (the \"License\"); you may not use this file except in compliance with the License. You may obtain a copy of the License at http://www.apache.org/licenses/LICENSE-2.0.\n",
    " \n",
    "Unless required by applicable law or agreed to in writing, software distributed under the License is distributed on an \"AS IS\" BASIS, WITHOUT WARRANTIES OR CONDITIONS OF ANY KIND, either express or implied. See the License for the specific language governing permissions and limitations under the License.\n",
    "\n",
    "This example uses FICO&reg; Xpress software. By running it, you agree to the Community License terms of the [Xpress Shrinkwrap License Agreement](https://community.fico.com/s/contentdocument/06980000002h0i5AAA) with respect to the FICO&reg; Xpress software. See the [licensing options](https://www.fico.com/en/fico-xpress-trial-and-licensing-options) overview for additional details and information about obtaining a paid license."
   ]
  },
  {
   "cell_type": "code",
   "execution_count": null,
   "metadata": {},
   "outputs": [],
   "source": [
    "# Install the xpress package\n",
    "%pip install -q xpress"
   ]
  },
  {
   "cell_type": "markdown",
   "metadata": {},
   "source": [
    "Create a basic Xpress problem with five variables of various types, set an objective and add a set of three constraints:\n",
    "\n",
    "$$\n",
    "\\min c_{1} + c_{2}\n",
    "$$\n",
    "\n",
    "subject to:\n",
    "\n",
    "$$\n",
    "c_{1}^2 + c_{2}^2 \\leq 6 \\\\\n",
    "2c_{1} + 3c_{2} + c_{3} = 2 \\\\\n",
    "-c_{3}^2 + c_{4}^2 + c_{5}^2 \\leq 0 \\\\\n",
    "$$\n",
    "\n",
    "with the following bounds:\n",
    "\n",
    "$$\n",
    "-\\inf \\leq c_{1} \\leq \\inf \\\\\n",
    "-\\inf \\leq c_{2} \\leq 200 \\\\\n",
    "0 \\leq c_{3} \\leq \\inf \\\\\n",
    "0 \\leq c_{4} \\leq 6 \\\\\n",
    "0 \\leq c_{5} \\leq \\inf \\\\\n",
    "\n",
    "$$\n",
    "\n",
    "with $c_{3}$ being *partially integer* with a threshold of 10, $c_{4}$ a *semi-continuous* variable with a <tt>threshold</tt> of 3 and upper bound equal to 6, and $c_{5}$ being *integer*."
   ]
  },
  {
   "cell_type": "code",
   "execution_count": 1,
   "metadata": {},
   "outputs": [],
   "source": [
    "import xpress as xp\n",
    "\n",
    "p = xp.problem()\n",
    "\n",
    "c1 = p.addVariable(name=\"C1\", lb=-xp.infinity, ub=xp.infinity)\n",
    "c2 = p.addVariable(name=\"C2\", lb=-xp.infinity, ub=200)\n",
    "c3 = p.addVariable(name=\"C3\", vartype=xp.partiallyinteger, threshold=10)    # Integer up to 10, then continuous\n",
    "c4 = p.addVariable(name=\"C4\", vartype=xp.semicontinuous, threshold=3, ub=6) # A 'hole' between 0 and 3, then continuous up to 6\n",
    "c5 = p.addVariable(name=\"C5\", vartype=xp.integer)\n",
    "\n",
    "p.setObjective(c1 + c2)\n",
    "\n",
    "p.addConstraint(c1**2 + c2**2 <= 6,\n",
    "                2 * c1 + 3 * c2 + c3 == 2,\n",
    "                -c3**2 + c4**2 + c5**2 <= 0)"
   ]
  },
  {
   "cell_type": "markdown",
   "metadata": {},
   "source": [
    "After a problem is built by the user, the [problem.write()](https://www.fico.com/fico-xpress-optimization/docs/latest/solver/optimizer/python/HTML/problem.write.html) method generates and exports the problem as an LP file named \"example0\" into the active working directory. The method can be used to write in either LP or MPS format, where LP is more human readable and best fit for debugging and model validation, while the MPS format is recommended for numerical experiments and reproduceability.\n",
    "\n",
    "This file can then be opened for debugging purposes or for a visual validation of the problem formulation."
   ]
  },
  {
   "cell_type": "code",
   "execution_count": 2,
   "metadata": {},
   "outputs": [],
   "source": [
    "p.write(\"example0\", \"lp\")"
   ]
  },
  {
   "cell_type": "markdown",
   "metadata": {},
   "source": [
    "A second problem is created and loaded by reading the generated LP file using the [problem.read()](https://www.fico.com/fico-xpress-optimization/docs/latest/solver/optimizer/python/HTML/problem.read.html) method, with the **filename with extension** being passed as an argument. Then, the problem is optimized, and the objective and solutions values of the optimal solution are printed."
   ]
  },
  {
   "cell_type": "code",
   "execution_count": 3,
   "metadata": {},
   "outputs": [
    {
     "name": "stdout",
     "output_type": "stream",
     "text": [
      " \n",
      "Reading Problem example0\n",
      "Problem Statistics\n",
      "           3 (      0 spare) rows\n",
      "           5 (      0 spare) structural columns\n",
      "           3 (      0 spare) non-zero elements\n",
      "           5 quadratic elements in 2 quadratic constraints\n",
      "MIP Entity Statistics\n",
      "           3 entities        0 sets        0 set members\n",
      "FICO Xpress v9.5.1, Community, solve started 16:50:37, Jan 30, 2025\n",
      "Heap usage: 389KB (peak 389KB, 187KB system)\n",
      "Minimizing MIQCQP example0 using up to 20 threads and up to 31GB memory, with these control settings:\n",
      "OUTPUTLOG = 1\n",
      "NLPPOSTSOLVE = 1\n",
      "XSLP_DELETIONCONTROL = 0\n",
      "XSLP_OBJSENSE = 1\n",
      "Original problem has:\n",
      "         3 rows            5 cols            3 elements         3 entities\n",
      "         1 qrows           5 qrowelem         1 cones           3 celems\n",
      "Converted 1 quadratic matrices to their separable equivalent\n",
      "Converted 1 separable quadratic matrices to rotated cones\n",
      "Presolved problem has:\n",
      "         9 rows           14 cols           12 elements         4 entities\n",
      "         5 cones          10 celems\n",
      "Presolve finished in 0 seconds\n",
      "Heap usage: 424KB (peak 446KB, 187KB system)\n",
      "\n",
      "Coefficient range                    original                 solved        \n",
      "  Coefficients   [min,max] : [ 1.00e+00,  3.00e+00] / [ 5.00e-01,  1.50e+00]\n",
      "  RHS and bounds [min,max] : [ 2.00e+00,  2.00e+02] / [ 5.00e-01,  2.00e+02]\n",
      "  Objective      [min,max] : [ 1.00e+00,  1.00e+00] / [ 1.00e+00,  1.00e+00]\n",
      "  Quadratic      [min,max] : [ 2.00e+00,  2.00e+00] / [ 2.00e+00,  2.00e+00]\n",
      "Autoscaling applied standard scaling\n",
      "\n",
      "Will try to keep branch and bound tree memory usage below 23.2GB\n",
      "Using AVX2 support\n",
      "Cores per CPU (CORESPERCPU): 20\n",
      "Barrier starts after 0 seconds, using up to 20 threads, 14 cores\n",
      "Matrix ordering - Dense cols.:     12   NZ(L):       103   Flops:          306\n",
      " \n",
      "  Its   P.inf      D.inf      U.inf      Primal obj.     Dual obj.      Compl.\n",
      "   0   2.98e+02   1.42e+02   1.98e+02   1.9900000e+02  -2.1334847e+02   5.7e+04\n",
      "   1   2.75e+02   1.31e+02   1.82e+02   1.8375886e+02  -1.8248573e+02   5.6e+04\n",
      "   2   2.02e+02   9.62e+01   1.34e+02   1.3516863e+02  -1.3184119e+02   5.5e+04\n",
      "   3   1.22e+02   5.82e+01   8.12e+01   8.2047460e+01  -7.6298924e+01   5.1e+04\n",
      "   4   3.85e+01   1.83e+01   2.55e+01   2.6161475e+01  -2.5483848e+01   3.4e+04\n",
      "   5   1.81e+01   8.59e+00   1.20e+01   1.2373822e+01  -1.1870569e+01   3.2e+04\n",
      "   6   4.68e+00   2.23e+00   3.10e+00   3.5323582e+00  -2.7152070e+00   2.6e+04\n",
      "   7   2.41e+00   1.15e+00   1.60e+00   2.0267218e+00  -1.1702081e+00   2.1e+04\n",
      "   8   4.44e-01   2.11e-01   2.94e-01   4.1244362e-01  -1.6155770e-01   7.1e+03\n",
      "   9   3.75e-01   1.78e-01   2.49e-01  -1.9948597e+00  -2.4150247e+00   2.9e+03\n",
      "  10   2.65e-02   1.26e-02   1.76e-02  -3.4453526e+00  -3.4630999e+00   1.6e+02\n",
      "  11   2.94e-04   1.40e-04   1.95e-04  -3.4636141e+00  -3.4638411e+00   1.8e+00\n",
      "  12   1.00e-05   4.77e-06   6.65e-06  -3.4640795e+00  -3.4640873e+00   6.0e-02\n",
      "  13   7.23e-07   3.44e-07   4.79e-07  -3.4640998e+00  -3.4641004e+00   4.5e-03\n",
      "  14   1.07e-07   5.09e-08   7.10e-08  -3.4641014e+00  -3.4641014e+00   6.8e-04\n",
      "Barrier method finished in 0 seconds\n",
      "Crossover crash basis containing 3 structurals form 10 candidates\n",
      "Crossover starts\n",
      " \n",
      "   Its         Obj Value      S   Ninf  Nneg        Sum Inf  Time\n",
      "     6         -3.464222      P      0     0        .000000     0\n",
      "     0         -3.464222      N      0     0        .000000     0\n",
      "     0         -3.464222      D      0     0        .000000     0\n",
      "Crossover successful\n",
      "Objective function value:    -3.464221 time: 0\n",
      "     0         -3.464221      P      0     0        .000000     0\n",
      "Optimal solution found\n",
      "Barrier solved problem\n",
      "  14 barrier and 6 simplex iterations in 0.02 seconds at time 0\n",
      "\n",
      "Final objective                       : -3.464221288183805e+00\n",
      "  Max primal violation      (abs/rel) :       0.0 /       0.0\n",
      "  Max dual violation        (abs/rel) :       0.0 /       0.0\n",
      "  Max complementarity viol. (abs/rel) :       0.0 /       0.0\n",
      "\n",
      "Starting root cutting & heuristics\n",
      "Deterministic mode with up to 4 additional threads\n",
      " \n",
      " Its Type    BestSoln    BestBound   Sols    Add    Del     Gap     GInf   Time\n",
      "k           -3.464102    -3.464221      1                  0.00%       0      0\n",
      "STOPPING - MIPRELSTOP target reached (MIPRELSTOP=0.0001  gap=3.4547e-05).\n",
      " \n",
      "Cuts in the matrix         : 5\n",
      "Cut elements in the matrix : 15\n",
      " *** Search completed ***\n",
      "Uncrunching matrix\n",
      "Final MIP objective                   : -3.464101609662126e+00\n",
      "Final MIP bound                       : -3.464221288183805e+00\n",
      "  Solution time / primaldual integral :      0.03s/ 91.204702%\n",
      "  Number of solutions found / nodes   :         1 /         0\n",
      "  Max primal violation      (abs/rel) : 2.135e-10 / 7.116e-11\n",
      "  Max integer violation     (abs    ) :       0.0\n",
      "Objective value: -3.4641016096621264\n",
      "Solution: [-1.731998849223323, -1.7321027604388033, 10.660305979976537, 0.0, 0.0]\n"
     ]
    }
   ],
   "source": [
    "p2 = xp.problem()\n",
    "\n",
    "p2.read(\"example0.lp\")\n",
    "\n",
    "p2.optimize()\n",
    "\n",
    "print(\"Objective value:\", p2.attributes.objval)\n",
    "print(\"Solution:\", p2.getSolution())"
   ]
  }
 ],
 "metadata": {
  "kernelspec": {
   "display_name": "Python 3",
   "language": "python",
   "name": "python3"
  },
  "language_info": {
   "codemirror_mode": {
    "name": "ipython",
    "version": 3
   },
   "file_extension": ".py",
   "mimetype": "text/x-python",
   "name": "python",
   "nbconvert_exporter": "python",
   "pygments_lexer": "ipython3",
   "version": "3.12.9"
  }
 },
 "nbformat": 4,
 "nbformat_minor": 2
}
