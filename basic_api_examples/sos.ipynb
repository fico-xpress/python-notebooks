{
 "cells": [
  {
   "cell_type": "markdown",
   "metadata": {},
   "source": [
    "# **Using Special Ordered Set (SOS) constraints**"
   ]
  },
  {
   "cell_type": "markdown",
   "metadata": {},
   "source": [
    "***sos.ipynb***\n",
    "\n",
    "Construct a problem from scratch with variables of various types. Adds Special Ordered Sets (SOSs) and shows how to retrieve such modeling objects once it has been added to the problem using the API functions.\n",
    "\n",
    "&copy; Copyright 2025 Fair Isaac Corporation\n",
    "\n",
    "Licensed under the Apache License, Version 2.0 (the \"License\"); you may not use this file except in compliance with the License. You may obtain a copy of the License at http://www.apache.org/licenses/LICENSE-2.0.\n",
    " \n",
    "Unless required by applicable law or agreed to in writing, software distributed under the License is distributed on an \"AS IS\" BASIS, WITHOUT WARRANTIES OR CONDITIONS OF ANY KIND, either express or implied. See the License for the specific language governing permissions and limitations under the License.\n",
    "\n",
    "This example uses FICO&reg; Xpress software. By running it, you agree to the Community License terms of the [Xpress Shrinkwrap License Agreement](https://community.fico.com/s/contentdocument/06980000002h0i5AAA) with respect to the FICO&reg; Xpress software. See the [licensing options](https://www.fico.com/en/fico-xpress-trial-and-licensing-options) overview for additional details and information about obtaining a paid license."
   ]
  },
  {
   "cell_type": "code",
   "execution_count": null,
   "metadata": {},
   "outputs": [],
   "source": [
    "# Install the xpress package\n",
    "%pip install -q xpress"
   ]
  },
  {
   "cell_type": "markdown",
   "metadata": {},
   "source": [
    "Start by importing the xpress Python package, create an Xpress problem, and add all variables used in this example plus a linear constraint over these variables."
   ]
  },
  {
   "cell_type": "code",
   "execution_count": 1,
   "metadata": {},
   "outputs": [],
   "source": [
    "import xpress as xp\n",
    "\n",
    "m = xp.problem()\n",
    "\n",
    "m.controls.miprelstop = 0\n",
    "\n",
    "# All variables used in this example\n",
    "v1 = m.addVariable(lb=0, ub=7, vartype=xp.continuous)\n",
    "v2 = m.addVariable(lb=1, ub=10, threshold=7, vartype=xp.semicontinuous)\n",
    "y = [m.addVariable(name=\"y{0}\".format(i)) for i in range(2)]\n",
    "\n",
    "m.addConstraint(v1 + v2 >= xp.Sum(y[i] for i in range(2)))"
   ]
  },
  {
   "cell_type": "markdown",
   "metadata": {},
   "source": [
    "The next cell adds an SOS type 1 constraint using the [problem.addSOS()](https://www.fico.com/fico-xpress-optimization/docs/latest/solver/optimizer/python/HTML/problem.addSOS.html) method.\n",
    "\n",
    "The first argument corresponds to the list of variables composing the SOS constraint, and the second argument the list of weights (one per variable) that define the order for SOS constraints (used in branching for both types)."
   ]
  },
  {
   "cell_type": "code",
   "execution_count": 2,
   "metadata": {},
   "outputs": [
    {
     "name": "stdout",
     "output_type": "stream",
     "text": [
      "SOS: mynewsos mynewsos\n"
     ]
    }
   ],
   "source": [
    "s = m.addSOS([v1, v2], [1, 0], name=\"mynewsos\", type=1)\n",
    "\n",
    "print(\"SOS:\", s.name)"
   ]
  },
  {
   "cell_type": "markdown",
   "metadata": {},
   "source": [
    "The following sets an objective, solves the problem, displays some output and exports the model in LP format.\n"
   ]
  },
  {
   "cell_type": "code",
   "execution_count": 3,
   "metadata": {},
   "outputs": [
    {
     "name": "stdout",
     "output_type": "stream",
     "text": [
      "FICO Xpress v9.5.1, Community, solve started 16:50:24, Jan 30, 2025\n",
      "Heap usage: 388KB (peak 388KB, 102KB system)\n",
      "Maximizing MILP noname using up to 20 threads and up to 31GB memory, with these control settings:\n",
      "OUTPUTLOG = 1\n",
      "MIPRELSTOP = 0\n",
      "NLPPOSTSOLVE = 1\n",
      "XSLP_DELETIONCONTROL = 0\n",
      "XSLP_OBJSENSE = -1\n",
      "Original problem has:\n",
      "         1 rows            4 cols            4 elements         2 entities\n",
      "         1 sets            2 setelem\n",
      "Presolved problem has:\n",
      "         0 rows            2 cols            0 elements         2 entities\n",
      "         1 sets            2 setelem\n",
      "Presolve finished in 0 seconds\n",
      "Heap usage: 394KB (peak 402KB, 107KB system)\n",
      "\n",
      "Coefficient range                    original                 solved        \n",
      "  Coefficients   [min,max] : [ 1.00e+00,  1.00e+00] / [      0.0,       0.0]\n",
      "  RHS and bounds [min,max] : [ 7.00e+00,  1.00e+01] / [ 7.00e+00,  1.00e+01]\n",
      "  Objective      [min,max] : [ 1.00e+00,  1.00e+00] / [ 1.00e+00,  1.00e+00]\n",
      "Autoscaling applied standard scaling\n",
      "\n",
      "Will try to keep branch and bound tree memory usage below 23.2GB\n",
      " *** Solution found:      .000000   Time:   0.00    Heuristic: T ***\n",
      "Starting concurrent solve with dual (1 thread)\n",
      "\n",
      " Concurrent-Solve,   0s\n",
      "            Dual        \n",
      "    objective   dual inf\n",
      " D  17.000000   .0000000\n",
      "                        \n",
      "------- optimal --------\n",
      "Concurrent statistics:\n",
      "           Dual: 0 simplex iterations, 0.00s\n",
      "Optimal solution found\n",
      " \n",
      "   Its         Obj Value      S   Ninf  Nneg   Sum Dual Inf  Time\n",
      "     0         17.000000      D      0     0        .000000     0\n",
      "Dual solved problem\n",
      "  0 simplex iterations in 0.00 seconds at time 0\n",
      "\n",
      "Final objective                       : 1.700000000000000e+01\n",
      "  Max primal violation      (abs/rel) :       0.0 /       0.0\n",
      "  Max dual violation        (abs/rel) :       0.0 /       0.0\n",
      "  Max complementarity viol. (abs/rel) :       0.0 /       0.0\n",
      "\n",
      "Starting root cutting & heuristics\n",
      "Deterministic mode with up to 4 additional threads\n",
      " \n",
      " Its Type    BestSoln    BestBound   Sols    Add    Del     Gap     GInf   Time\n",
      "a            7.000000    17.000000      2                 58.82%       0      0\n",
      "b           10.000000    17.000000      3                 41.18%       0      0\n",
      "   1  K     10.000000    17.000000      3      0      0   41.18%       1      0\n",
      "Heuristic search 'R' started\n",
      "Heuristic search 'R' stopped\n",
      " *** Search completed ***\n",
      "Uncrunching matrix\n",
      "Final MIP objective                   : 1.000000000000000e+01\n",
      "Final MIP bound                       : 1.000001000000000e+01\n",
      "  Solution time / primaldual integral :      0.00s/ 68.465494%\n",
      "  Number of solutions found / nodes   :         3 /         1\n",
      "  Max primal violation      (abs/rel) :       0.0 /       0.0\n",
      "  Max integer violation     (abs    ) :       0.0\n",
      "v1: 0.0, v2: 10.0; sol vector: [0.0, 10.0, 10.0, 0.0]; obj: 10.0\n"
     ]
    }
   ],
   "source": [
    "m.setObjective(xp.Sum([y[i] for i in range(2)]), sense=xp.maximize)\n",
    "\n",
    "m.optimize()\n",
    "\n",
    "print(\"v1: \", m.getSolution(v1),\n",
    "      \", v2: \", m.getSolution(v2),\n",
    "      \"; sol vector: \", m.getSolution(),\n",
    "      \"; obj: \", m.attributes.objval,\n",
    "      sep=\"\")  # default separator between strings is \" \"\n",
    "\n",
    "m.write(\"restriction\", \"lp\")"
   ]
  },
  {
   "cell_type": "markdown",
   "metadata": {},
   "source": [
    "In the following cell, the method [problem.delSOS()](https://www.fico.com/fico-xpress-optimization/docs/latest/solver/optimizer/python/HTML/problem.delSOS.html) is used to delete the previously added SOS1 constraint by passing its object as an argument.\n",
    "\n",
    "The deletion can be confirmed by comparing the exported LP files created before and after the SOS constraint is deleted."
   ]
  },
  {
   "cell_type": "code",
   "execution_count": 4,
   "metadata": {},
   "outputs": [
    {
     "name": "stdout",
     "output_type": "stream",
     "text": [
      "FICO Xpress v9.5.1, Community, solve started 16:50:24, Jan 30, 2025\n",
      "Heap usage: 2644KB (peak 5484KB, 107KB system)\n",
      "Maximizing MILP noname using up to 20 threads and up to 31GB memory, with these control settings:\n",
      "OUTPUTLOG = 1\n",
      "MIPRELSTOP = 0\n",
      "NLPPOSTSOLVE = 1\n",
      "XSLP_DELETIONCONTROL = 0\n",
      "XSLP_OBJSENSE = -1\n",
      "Original problem has:\n",
      "         1 rows            4 cols            4 elements         1 entities\n",
      "Presolved problem has:\n",
      "         0 rows            0 cols            0 elements         0 entities\n",
      "Presolve finished in 0 seconds\n",
      "Heap usage: 2645KB (peak 5484KB, 107KB system)\n",
      "Will try to keep branch and bound tree memory usage below 23.2GB\n",
      "Starting concurrent solve with dual (1 thread)\n",
      "\n",
      " Concurrent-Solve,   0s\n",
      "            Dual        \n",
      "    objective   dual inf\n",
      " D  17.000000   .0000000\n",
      "                        \n",
      "------- optimal --------\n",
      "Concurrent statistics:\n",
      "           Dual: 0 simplex iterations, 0.00s\n",
      "Optimal solution found\n",
      " \n",
      "   Its         Obj Value      S   Ninf  Nneg   Sum Dual Inf  Time\n",
      "     0         17.000000      D      0     0        .000000     0\n",
      "Dual solved problem\n",
      "  0 simplex iterations in 0.00 seconds at time 0\n",
      "\n",
      "Final objective                       : 1.700000000000000e+01\n",
      "  Max primal violation      (abs/rel) :       0.0 /       0.0\n",
      "  Max dual violation        (abs/rel) :       0.0 /       0.0\n",
      "  Max complementarity viol. (abs/rel) :       0.0 /       0.0\n",
      "\n",
      "Starting root cutting & heuristics\n",
      "Deterministic mode with up to 4 additional threads\n",
      " \n",
      " Its Type    BestSoln    BestBound   Sols    Add    Del     Gap     GInf   Time\n",
      "*           17.000000    17.000000      1                 -0.00%       0      0\n",
      " *** Search completed ***\n",
      "Uncrunching matrix\n",
      "Final MIP objective                   : 1.700000000000000e+01\n",
      "Final MIP bound                       : 1.700000000000000e+01\n",
      "  Solution time / primaldual integral :      0.01s/ 76.312934%\n",
      "  Number of solutions found / nodes   :         1 /         1\n",
      "  Max primal violation      (abs/rel) :       0.0 /       0.0\n",
      "  Max integer violation     (abs    ) :       0.0\n"
     ]
    },
    {
     "data": {
      "text/plain": [
       "(<SolveStatus.COMPLETED: 3>, <SolStatus.OPTIMAL: 1>)"
      ]
     },
     "execution_count": 4,
     "metadata": {},
     "output_type": "execute_result"
    }
   ],
   "source": [
    "m.delSOS(s)\n",
    "m.write(\"restriction-noSOS\", \"lp\")\n",
    "\n",
    "m.optimize()"
   ]
  }
 ],
 "metadata": {
  "kernelspec": {
   "display_name": "Python 3",
   "language": "python",
   "name": "python3"
  },
  "language_info": {
   "codemirror_mode": {
    "name": "ipython",
    "version": 3
   },
   "file_extension": ".py",
   "mimetype": "text/x-python",
   "name": "python",
   "nbconvert_exporter": "python",
   "pygments_lexer": "ipython3",
   "version": "3.12.8"
  }
 },
 "nbformat": 4,
 "nbformat_minor": 2
}
