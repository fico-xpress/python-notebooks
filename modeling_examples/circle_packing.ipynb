{
 "cells": [
  {
   "cell_type": "markdown",
   "id": "90700428",
   "metadata": {},
   "source": [
    "***circle_packing.ipynb***\n",
    "\n",
    "Place $N$ disjoint circles in the unit square to maximize the sum of their radii.\n",
    "\n",
    "&copy; Copyright 2025 Fair Isaac Corporation\n",
    "\n",
    "Licensed under the Apache License, Version 2.0 (the \"License\"); you may not use this file except in compliance with the License. You may obtain a copy of the License at http://www.apache.org/licenses/LICENSE-2.0.\n",
    " \n",
    "Unless required by applicable law or agreed to in writing, software distributed under the License is distributed on an \"AS IS\" BASIS, WITHOUT WARRANTIES OR CONDITIONS OF ANY KIND, either express or implied. See the License for the specific language governing permissions and limitations under the License.\n",
    "\n",
    "This example uses FICO&reg; Xpress software. By running it, you agree to the Community License terms of the [Xpress Shrinkwrap License Agreement](https://community.fico.com/s/contentdocument/06980000002h0i5AAA) with respect to the FICO&reg; Xpress software. See the [licensing options](https://www.fico.com/en/fico-xpress-trial-and-licensing-options) overview for additional details and information about obtaining a paid license."
   ]
  },
  {
   "cell_type": "code",
   "execution_count": null,
   "id": "52204f86",
   "metadata": {},
   "outputs": [],
   "source": [
    "# Install the xpress package\n",
    "%pip install -q xpress"
   ]
  },
  {
   "cell_type": "markdown",
   "id": "68fa499f",
   "metadata": {},
   "source": [
    "## Problem description and formulation"
   ]
  },
  {
   "cell_type": "markdown",
   "id": "79ee9221",
   "metadata": {},
   "source": [
    "In this example, we aim at packing $N$ circles inside the unit square to maximize the sum of their radii. The circles must not overlap with each other and must be fully contained inside the unit square. Let $CIRCLES$ be the set $\\{1,...,N\\}$.\n",
    "\n",
    "The continuous decision variables $x_i$ and $y_i$ represent the vector of $(x,y)$ coordinates of the center point of each circle $i \\in CIRCLES$, and variables $r_i$ the corresponding radius.\n",
    "\n",
    "The goal is to maximize the area inside the unit square occupied by circles, that is, the sum of the radii of all circles:\n",
    "\n",
    "$$\\max \\sum_{i \\in CIRCLES} r_{i}$$\n",
    "\n",
    "The circles must not overlap, that is, the Euclidean distance between the center of any two circles must not be shorter than the sum of their radii. This can be represented by the following set of quadratic constraints:\n",
    "\n",
    "$$ (x_i - x_j)^2 + (y_i - y_j)^2  \\geq (r_i + r_j)^2, \\qquad \\forall i \\in CIRCLES, \\forall j \\in i+1,...,N$$\n",
    "\n",
    "Moreover, we need each circle to be fully contained within the unit square. Therefore, both the $x_i$ and $y_i$ coordinates of each circle must not be lower than its radius (similarly, they must not be greater than (1 - $r_i$)). This can be represented by the following linking constraints:\n",
    "\n",
    "$$  \n",
    "\\begin{array}{llll}\n",
    "& \\qquad  x_i \\geq r_i, \\qquad \\forall i \\in CIRCLES \\\\\n",
    "& \\qquad  x_i \\leq 1 - r_i, \\qquad \\forall i \\in CIRCLES \\\\\n",
    "& \\qquad  y_i \\geq r_i, \\qquad \\forall i \\in CIRCLES \\\\\n",
    "& \\qquad  y_i \\leq 1 - r_i, \\qquad \\forall i \\in CIRCLES \\\\\n",
    "\\end{array}\n",
    "$$\n",
    "\n",
    "Additionally, the radius of each circle has a trivial upper bound equal to 0.5, since the diameter of any circle can never be greater than 1:\n",
    "\n",
    "$$0 \\leq r_i \\leq 0.5, \\qquad \\forall i \\in 1..N $$\n"
   ]
  },
  {
   "cell_type": "markdown",
   "id": "f7e9ef6f",
   "metadata": {},
   "source": [
    "## Model implementation"
   ]
  },
  {
   "cell_type": "markdown",
   "id": "39c67d63",
   "metadata": {},
   "source": [
    "The previous model is implemented below. Note that the upper bound is defined on variable creation with [p.addVariables](https://www.fico.com/fico-xpress-optimization/docs/latest/solver/optimizer/python/HTML/problem.addVariables.html), which creates a *NumPy* array of $N$ variables when an integer is passed as the first argument."
   ]
  },
  {
   "cell_type": "code",
   "execution_count": null,
   "id": "ff48ce99",
   "metadata": {},
   "outputs": [],
   "source": [
    "import xpress as xp\n",
    "import matplotlib.pyplot as plt\n",
    "\n",
    "N = 6   # Number of circles to place.\n",
    "CIRCLES = range(N)\n",
    "\n",
    "# Create a problem instance.\n",
    "p = xp.problem()\n",
    "\n",
    "# Decision variables.\n",
    "x = p.addVariables(N, name=\"x\")         # x-coordinate of center points.\n",
    "y = p.addVariables(N, name=\"y\")         # y-coordinate of center points.\n",
    "r = p.addVariables(N, name=\"r\", ub=0.5) # Radii of circles, upper bound is 0.5 to fit in unit square.\n",
    "\n",
    "# Non-overlap constraints.\n",
    "p.addConstraint((x[i] - x[j])**2 + (y[i] - y[j])**2 >= (r[i] + r[j])**2 for i in CIRCLES for j in range(i + 1, N))\n",
    "\n",
    "# Ensure that each circle is contained in the unit square.\n",
    "p.addConstraint(x[i] >= r[i] for i in CIRCLES)\n",
    "p.addConstraint(x[i] <= 1 - r[i] for i in CIRCLES)\n",
    "p.addConstraint(y[i] >= r[i] for i in CIRCLES)\n",
    "p.addConstraint(y[i] <= 1 - r[i] for i in CIRCLES)\n",
    "\n",
    "# Objective function.\n",
    "p.setObjective(xp.Sum(r), sense=xp.maximize)"
   ]
  },
  {
   "cell_type": "markdown",
   "id": "c72a2c05",
   "metadata": {},
   "source": [
    "Before triggering the optimization, a number of optimizer controls are set. For exact arithmetic, <!--we set the tolerance for matrix coefficients to zero via [MATRIXTOL](https://www.fico.com/fico-xpress-optimization/docs/latest/solver/optimizer/HTML/MATRIXTOL.html), and --> the feasibility tolerance is lowered to a very small value with [FEASTOL](https://www.fico.com/fico-xpress-optimization/docs/latest/solver/optimizer/HTML/FEASTOL.html). \n",
    "\n",
    "Moreover, we set a time limit of 3 seconds before defining the global solver (default) to solve the problem.\n",
    "\n",
    "The code below defines these control parameters and optimizes the problem before printing the solution and objective values."
   ]
  },
  {
   "cell_type": "code",
   "execution_count": null,
   "id": "8b00ade4",
   "metadata": {},
   "outputs": [],
   "source": [
    "# Control parameters.\n",
    "p.controls.feastol = 1e-9               # Set the feasibility tolerance to a very small value.\n",
    "p.controls.timelimit = 3                # Set a time limit in seconds.\n",
    "#p.controls.worklimit = 0.6             # Alternatively, set a work limit instead of time as a deterministic stopping criterion.\n",
    "p.controls.nlpsolver = xp.constants.NLPSOLVER_GLOBAL        # Set the NLP solver to global.\n",
    "\n",
    "# Solve the problem.\n",
    "p.optimize()\n",
    "\n",
    "# Print a solution summary.\n",
    "xsol = p.getSolution(x)\n",
    "ysol = p.getSolution(y)\n",
    "rsol = p.getSolution(r)\n",
    "print(f\"Sum of radii for N = {N} is {p.attributes.objval}\")\n",
    "for i in CIRCLES:\n",
    "    print(f\"{i}: x = {xsol[i]}, y = {ysol[i]}, r = {rsol[i]}\")"
   ]
  },
  {
   "cell_type": "markdown",
   "id": "bfa4ee35",
   "metadata": {},
   "source": [
    "## Visualization"
   ]
  },
  {
   "cell_type": "markdown",
   "id": "7d5441fd",
   "metadata": {},
   "source": [
    "The code cell below generates a plot of the circles defined by the solution inside the unit square, with a blue line and label indicating the radius of each circle."
   ]
  },
  {
   "cell_type": "code",
   "execution_count": null,
   "id": "90bb8e2b",
   "metadata": {},
   "outputs": [],
   "source": [
    "print(f\"N = {N}, Sum of radii = {p.attributes.objval}\")\n",
    "\n",
    "# Create a plot\n",
    "fig, ax = plt.subplots()\n",
    "\n",
    "# Plot each circle\n",
    "for (x, y, r) in zip(xsol, ysol, rsol):\n",
    "    # Draw the circle with red edge\n",
    "    circle = plt.Circle((x, y), r, edgecolor='red', facecolor='none')\n",
    "    ax.add_patch(circle)\n",
    "\n",
    "    # Draw the radius line in blue\n",
    "    ax.plot([x, x + r], [y, y], color='blue')\n",
    "\n",
    "    # Add the radius length as label\n",
    "    ax.text(x + r / 2, y, f'R={r:.2f}', color='blue', fontsize=8, ha='center', va='bottom')\n",
    "\n",
    "# Set the limits and aspect ratio\n",
    "ax.set_xlim(0, 1)\n",
    "ax.set_ylim(0, 1)\n",
    "ax.set_aspect('equal', 'box')\n",
    "ax.grid(True)\n",
    "\n",
    "# Show the plot\n",
    "plt.show()"
   ]
  }
 ],
 "metadata": {
  "kernelspec": {
   "display_name": "Python 3",
   "language": "python",
   "name": "python3"
  },
  "language_info": {
   "codemirror_mode": {
    "name": "ipython",
    "version": 3
   },
   "file_extension": ".py",
   "mimetype": "text/x-python",
   "name": "python",
   "nbconvert_exporter": "python",
   "pygments_lexer": "ipython3",
   "version": "3.12.9"
  }
 },
 "nbformat": 4,
 "nbformat_minor": 5
}
