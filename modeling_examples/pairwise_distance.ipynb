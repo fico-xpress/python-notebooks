{
 "cells": [
  {
   "cell_type": "markdown",
   "id": "90700428",
   "metadata": {},
   "source": [
    "***pairwise_distance.ipynb***\n",
    "\n",
    "Determine the positions of $N$ points in $D$-dimensional space as to minimize the ratio of pairwise distances between points, that is, minimize the ratio of *min* and *max* squared distances.\n",
    "\n",
    "&copy; Copyright 2025 Fair Isaac Corporation\n",
    "\n",
    "Licensed under the Apache License, Version 2.0 (the \"License\"); you may not use this file except in compliance with the License. You may obtain a copy of the License at http://www.apache.org/licenses/LICENSE-2.0.\n",
    " \n",
    "Unless required by applicable law or agreed to in writing, software distributed under the License is distributed on an \"AS IS\" BASIS, WITHOUT WARRANTIES OR CONDITIONS OF ANY KIND, either express or implied. See the License for the specific language governing permissions and limitations under the License.\n",
    "\n",
    "This example uses FICO&reg; Xpress software. By running it, you agree to the Community License terms of the [Xpress Shrinkwrap License Agreement](https://www.fico.com/en/shrinkwrap-license-agreement-fico-xpress-optimization-suite-on-premises) with respect to the FICO&reg; Xpress software. See the [licensing options](https://www.fico.com/en/fico-xpress-trial-and-licensing-options) overview for additional details and information about obtaining a paid license."
   ]
  },
  {
   "cell_type": "code",
   "execution_count": null,
   "id": "52204f86",
   "metadata": {},
   "outputs": [],
   "source": [
    "# Install the xpress package\n",
    "%pip install -q xpress matplotlib plotly"
   ]
  },
  {
   "cell_type": "markdown",
   "id": "68fa499f",
   "metadata": {},
   "source": [
    "## Problem description and formulation"
   ]
  },
  {
   "cell_type": "markdown",
   "id": "5a03e29a",
   "metadata": {},
   "source": [
    "This optimization problem determines the positions of **$N$** points in a **$D$**-dimensional space such that the ratio of the maximum to minimum squared pairwise distances is minimized, which is addressed by **maximizing the minimum distance** in our formulation. This promotes a uniform distribution of points, minimizing clustering and maximizing spatial efficiency.\n",
    "\n",
    "The **decision variables** are defined below, with $\\mathcal{N}$ and $\\mathcal{D}$ being the corresponding sets of points and dimensions, respectively:\n",
    "- $x_{i,k}$: Coordinate of point $i \\in \\mathcal{N}$ in dimension $k \\in \\mathcal{D}$\n",
    "- $t_{\\min}$: Minimum squared distance between any two points\n",
    "- $t_{\\max}$: Maximum squared distance between any two points (fixed to 1)\n",
    "- $r$: Ratio variable, defined as $r = \\frac{1}{t_{\\min}}$\n",
    "\n",
    "For all pairs of points $i,j \\in \\mathcal{N}$ where $i < j$, the squared Euclidean distance is **constrained** as:\n",
    "\n",
    "$$ \\sum_{k \\in \\mathcal{D}} (x_{i,k} - x_{j,k})^2 \\geq t_{\\min}, \\qquad \\forall i, j \\in \\mathcal{N}, i < j $$\n",
    "$$ \\sum_{k \\in \\mathcal{D}} (x_{i,k} - x_{j,k})^2 \\leq 1, \\qquad \\forall i, j \\in \\mathcal{N}, i < j $$\n",
    "\n",
    "Additionally, we define the ratio variable by adding the constraint $r \\cdot t_{\\min} = 1$. Since the problem is *scale-invariant*, that is, the outcome of the problem does not change when all lengths are multiplied by the same constant factor, for simplicity we fix $t_{\\max} = 1$.\n",
    "\n",
    "The **objective function** is to maximize the minimum squared distance: $\\max t_{\\min}$. This is equivalent to minimizing the ratio $\\frac{t_{\\max}}{t_{\\min}}$, since $t_{\\max}$ is fixed to 1. This reformulates the problem as a quadratic problem that can be handled by a specific solver (Xpress-SLP) instead of the generic Global solver.  The optimization is subject to a time limit defined by `LIMIT`.\n",
    "\n",
    "The result is a configuration of $N$ points in $D$-dimensional space that are as evenly spaced as possible, minimizing the ratio of largest to smallest pairwise distances.\n"
   ]
  },
  {
   "cell_type": "markdown",
   "id": "f7e9ef6f",
   "metadata": {},
   "source": [
    "## Model implementation"
   ]
  },
  {
   "cell_type": "markdown",
   "id": "15e0ad67",
   "metadata": {},
   "source": [
    "The previous model is implemented below for the 3D case, with a time limit of 10 seconds for the solver. You can also work on the 2D space, and experiment with different numbers of points and increase or decrease the solver [time limit](https://www.fico.com/fico-xpress-optimization/docs/latest/solver/optimizer/HTML/TIMELIMIT.html). A lower bound of 0.1 is defined for $t_{min}$ to ensure that points are sufficiently far from each other, giving a maximum ratio of approximately $10$ for $N = 12$ points.\n",
    "\n",
    "After the optimization, the objective (ratio) and solution values are printed following the solver logs (ON by default)."
   ]
  },
  {
   "cell_type": "code",
   "execution_count": null,
   "id": "ff48ce99",
   "metadata": {},
   "outputs": [],
   "source": [
    "import xpress as xp\n",
    "import matplotlib.pyplot as plt\n",
    "import plotly.graph_objects as go\n",
    "import plotly.io as pio\n",
    "\n",
    "N = 12          # Number of points to be placed.\n",
    "D = 3           # Number of dimensions: 3 for 3D, 2 for 2D.\n",
    "LIMIT = 5       # Time limit for the solver.\n",
    "\n",
    "POINTS = range(N)  # Points to be placed.\n",
    "DIMS = range(D)    # Dimensions.\n",
    "\n",
    "# Create a problem instance.\n",
    "p = xp.problem()\n",
    "\n",
    "# Decision variables.\n",
    "x = p.addVariables(POINTS, DIMS, ub=1, name=\"x\")  # N points in d-dimensional space\n",
    "t_min = p.addVariable(lb=0.1, name=\"t_min\")       # Minimum squared distance variable.\n",
    "t_max = p.addVariable(name=\"t_max\")               # Maximum squared distance variable.\n",
    "r = p.addVariable(name=\"r\")                       # Ratio variable.\n",
    "\n",
    "# Constraints to ensure that the points are placed in a way that\n",
    "# the minimum distance between any two points is t_min and the maximum is 1\n",
    "p.addConstraint(xp.Sum((x[i,k] - x[j,k])**2 for k in DIMS) >= t_min for i in POINTS for j in POINTS if i < j)\n",
    "p.addConstraint(xp.Sum((x[i,k] - x[j,k])**2 for k in DIMS) <= 1 for i in POINTS for j in POINTS if i < j)\n",
    "\n",
    "# We wish to minimize t_max/t_min, which is invariant for scaling. We can \n",
    "# thus narrow the search to configurations where t_max is 1\n",
    "p.addConstraint(t_max == 1)\n",
    "# Compute ratio\n",
    "p.addConstraint(r * t_min == 1)\n",
    "\n",
    "# Objective: minimize the square root of ratio t_max / t_min.\n",
    "# Instead of minimizing r=1/t_min, we can improve the formulation by\n",
    "# maximizing t_min.\n",
    "p.setObjective(t_min, sense=xp.maximize)\n",
    "\n",
    "# Set the solver parameters.\n",
    "p.controls.timelimit = LIMIT\n",
    "\n",
    "# Solve the problem.\n",
    "p.optimize()\n",
    "\n",
    "# Print the solution\n",
    "status = p.attributes.solstatus\n",
    "if status in {xp.SolStatus.FEASIBLE, xp.SolStatus.OPTIMAL}:\n",
    "    print(\"Solution value (ratio):\", p.getSolution(r))\n",
    "    print(\"t_max:\", p.getSolution(t_max), \", t_min:\", p.getSolution(t_min))\n",
    "    xsol = p.getSolution(x)\n",
    "    for i in POINTS:\n",
    "        for j in DIMS:\n",
    "            print(f\"{x[i,j].name}: {xsol[i,j]}\")\n",
    "else:\n",
    "    print(f\"No solution found with time limit of {LIMIT} sec\")\n"
   ]
  },
  {
   "cell_type": "markdown",
   "id": "bfa4ee35",
   "metadata": {},
   "source": [
    "## Visualization"
   ]
  },
  {
   "cell_type": "markdown",
   "id": "6ceb030f",
   "metadata": {},
   "source": [
    "The code cell below generates a plot in either 2D or 3D (depending on the value of $D$ chosen above) using *matplotlib*. \n",
    "\n",
    "The plot containts the solution points, and the lines between any two points placed at the **minimum distance (blue)** or the **maximum distance (red)** amongst the whole set of pairwise distances."
   ]
  },
  {
   "cell_type": "code",
   "execution_count": 2,
   "id": "90bb8e2b",
   "metadata": {},
   "outputs": [
    {
     "name": "stdout",
     "output_type": "stream",
     "text": [
      "N = 12, D = 3, Ratio = 3.903063633999093\n"
     ]
    },
    {
     "data": {
      "image/png": "[encoded data removed]",
      "text/plain": [
       "<Figure size 1000x600 with 1 Axes>"
      ]
     },
     "metadata": {},
     "output_type": "display_data"
    }
   ],
   "source": [
    "print(f\"N = {N}, D = {D}, Ratio = {p.getSolution(r)}\")\n",
    "\n",
    "# Convert to dictionary with point ID as key and list of coordinates as value\n",
    "points = {}\n",
    "for (point_id, dimension), value in xsol.items():\n",
    "    if point_id not in points:\n",
    "        # Initialize list with None values up to the maximum dimension\n",
    "        max_dim = max(d for _, d in xsol.keys()) + 1\n",
    "        points[point_id] = [None] * max_dim\n",
    "    points[point_id][dimension] = value\n",
    "\n",
    "# Calculate squared distance\n",
    "def squared_distance(p1, p2, ndims):\n",
    "    return  sum((p1[i] - p2[i])**2 for i in range(ndims))\n",
    "\n",
    "# Create a plot\n",
    "fig = plt.figure(figsize=(10, 6))\n",
    "ax = fig.add_subplot(111, projection='3d' if D == 3 else None)\n",
    "\n",
    "# Plot points\n",
    "for point in points.values():\n",
    "    ax.scatter(*point, color='black')\n",
    "\n",
    "# Draw lines with color based on distance\n",
    "tol = p.controls.feastol\n",
    "for i in points:\n",
    "    for j in points:\n",
    "        p1, p2 = points[i], points[j]\n",
    "        dist = squared_distance(p1, p2, D)\n",
    "        if dist - p.getSolution(t_min) <= tol:\n",
    "            if D == 2:  # For 2D, we can plot in 2D space\n",
    "                ax.plot([p1[0], p2[0]], [p1[1], p2[1]], color='blue')\n",
    "            else:       # For 3D, we plot in 3D space\n",
    "                ax.plot([p1[0], p2[0]], [p1[1], p2[1]], [p1[2], p2[2]], color='blue')\n",
    "        if 1 - dist <= tol: \n",
    "            if D == 2:\n",
    "                ax.plot([p1[0], p2[0]], [p1[1], p2[1]], color='red')\n",
    "            else:\n",
    "                ax.plot([p1[0], p2[0]], [p1[1], p2[1]], [p1[2], p2[2]], color='red')\n",
    "\n",
    "ax.set_xlabel('x')\n",
    "ax.set_ylabel('y')\n",
    "ax.set_zlabel('z') if D == 3 else None\n",
    "\n",
    "plt.show()"
   ]
  },
  {
   "cell_type": "markdown",
   "id": "cb6b8f1d",
   "metadata": {},
   "source": [
    "## Interactive 3D visualization"
   ]
  },
  {
   "cell_type": "markdown",
   "id": "1e20b8ea",
   "metadata": {},
   "source": [
    "If you selected $D = 3$, then you can generate an **interactive 3D plot** of the same solution with the code cell below, which uses the *plotly* library. By default, the renderer is setup for Visual Studio Code, but you can adapt this to your own environment.\n",
    "\n",
    "After rendering, you can do *orbital rotation of the plot in any direction* and see the solution from different angles, as well as observing the coordinates of each point when hovering over. An `HMTL` file named `interactive_plot.html` is also exported in case you prefer to explore it in a web browser.\n"
   ]
  },
  {
   "cell_type": "code",
   "execution_count": 3,
   "id": "79556195",
   "metadata": {},
   "outputs": [
    {
     "data": {
      "application/vnd.plotly.v1+json": {
       "config": {
        "plotlyServerURL": "https://plot.ly"
       },
       "data": [
        {
         "marker": {
          "color": "black",
          "size": 5
         },
         "mode": "markers",
         "type": "scatter3d",
         "x": [
          0.28537805689014123
         ],
         "y": [
          0.7432801682224284
         ],
         "z": [
          0.2213143926039026
         ]
        },
        {
         "marker": {
          "color": "black",
          "size": 5
         },
         "mode": "markers",
         "type": "scatter3d",
         "x": [
          0.6944010112164039
         ],
         "y": [
          0.93768483418059
         ],
         "z": [
          0.44748528369612967
         ]
        },
        {
         "marker": {
          "color": "black",
          "size": 5
         },
         "mode": "markers",
         "type": "scatter3d",
         "x": [
          0.0037824002238134157
         ],
         "y": [
          0.5940631676382404
         ],
         "z": [
          0.6145728536952141
         ]
        },
        {
         "marker": {
          "color": "black",
          "size": 5
         },
         "mode": "markers",
         "type": "scatter3d",
         "x": [
          0.8205438385709383
         ],
         "y": [
          0.21574752081511706
         ],
         "z": [
          0.8810925670936116
         ]
        },
        {
         "marker": {
          "color": "black",
          "size": 5
         },
         "mode": "markers",
         "type": "scatter3d",
         "x": [
          0.8356183567488271
         ],
         "y": [
          0.0855428435606742
         ],
         "z": [
          0.3921848412986026
         ]
        },
        {
         "marker": {
          "color": "black",
          "size": 5
         },
         "mode": "markers",
         "type": "scatter3d",
         "x": [
          0.3628994174884977
         ],
         "y": [
          0
         ],
         "z": [
          0.5516688659323024
         ]
        },
        {
         "marker": {
          "color": "black",
          "size": 5
         },
         "mode": "markers",
         "type": "scatter3d",
         "x": [
          0.7172928043728263
         ],
         "y": [
          0.4980450132216155
         ],
         "z": [
          0.12374480194176257
         ]
        },
        {
         "marker": {
          "color": "black",
          "size": 5
         },
         "mode": "markers",
         "type": "scatter3d",
         "x": [
          0.5004192547944509
         ],
         "y": [
          0.4965270307357461
         ],
         "z": [
          0.6074222570308419
         ]
        },
        {
         "marker": {
          "color": "black",
          "size": 5
         },
         "mode": "markers",
         "type": "scatter3d",
         "x": [
          0.9998710293479534
         ],
         "y": [
          0.5450383540279561
         ],
         "z": [
          0.5410593970334087
         ]
        },
        {
         "marker": {
          "color": "black",
          "size": 5
         },
         "mode": "markers",
         "type": "scatter3d",
         "x": [
          0.2214417624220228
         ],
         "y": [
          0.26378197684383936
         ],
         "z": [
          0.9599580444586999
         ]
        },
        {
         "marker": {
          "color": "black",
          "size": 5
         },
         "mode": "markers",
         "type": "scatter3d",
         "x": [
          0.49318653439297283
         ],
         "y": [
          0.056058288171230986
         ],
         "z": [
          0.02058041816511199
         ]
        },
        {
         "marker": {
          "color": "black",
          "size": 5
         },
         "mode": "markers",
         "type": "scatter3d",
         "x": [
          0.08834343105446789
         ],
         "y": [
          0.2770917902424595
         ],
         "z": [
          0.2290942558524428
         ]
        },
        {
         "line": {
          "color": "red"
         },
         "mode": "lines",
         "type": "scatter3d",
         "x": [
          0.28537805689014123,
          0.8205438385709383
         ],
         "y": [
          0.7432801682224284,
          0.21574752081511706
         ],
         "z": [
          0.2213143926039026,
          0.8810925670936116
         ]
        },
        {
         "line": {
          "color": "blue"
         },
         "mode": "lines",
         "type": "scatter3d",
         "x": [
          0.28537805689014123,
          0.5004192547944509
         ],
         "y": [
          0.7432801682224284,
          0.4965270307357461
         ],
         "z": [
          0.2213143926039026,
          0.6074222570308419
         ]
        },
        {
         "line": {
          "color": "red"
         },
         "mode": "lines",
         "type": "scatter3d",
         "x": [
          0.6944010112164039,
          0.3628994174884977
         ],
         "y": [
          0.93768483418059,
          0
         ],
         "z": [
          0.44748528369612967,
          0.5516688659323024
         ]
        },
        {
         "line": {
          "color": "red"
         },
         "mode": "lines",
         "type": "scatter3d",
         "x": [
          0.6944010112164039,
          0.49318653439297283
         ],
         "y": [
          0.93768483418059,
          0.056058288171230986
         ],
         "z": [
          0.44748528369612967,
          0.02058041816511199
         ]
        },
        {
         "line": {
          "color": "red"
         },
         "mode": "lines",
         "type": "scatter3d",
         "x": [
          0.0037824002238134157,
          0.8356183567488271
         ],
         "y": [
          0.5940631676382404,
          0.0855428435606742
         ],
         "z": [
          0.6145728536952141,
          0.3921848412986026
         ]
        },
        {
         "line": {
          "color": "red"
         },
         "mode": "lines",
         "type": "scatter3d",
         "x": [
          0.0037824002238134157,
          0.9998710293479534
         ],
         "y": [
          0.5940631676382404,
          0.5450383540279561
         ],
         "z": [
          0.6145728536952141,
          0.5410593970334087
         ]
        },
        {
         "line": {
          "color": "red"
         },
         "mode": "lines",
         "type": "scatter3d",
         "x": [
          0.8205438385709383,
          0.28537805689014123
         ],
         "y": [
          0.21574752081511706,
          0.7432801682224284
         ],
         "z": [
          0.8810925670936116,
          0.2213143926039026
         ]
        },
        {
         "line": {
          "color": "red"
         },
         "mode": "lines",
         "type": "scatter3d",
         "x": [
          0.8356183567488271,
          0.0037824002238134157
         ],
         "y": [
          0.0855428435606742,
          0.5940631676382404
         ],
         "z": [
          0.3921848412986026,
          0.6145728536952141
         ]
        },
        {
         "line": {
          "color": "red"
         },
         "mode": "lines",
         "type": "scatter3d",
         "x": [
          0.3628994174884977,
          0.6944010112164039
         ],
         "y": [
          0,
          0.93768483418059
         ],
         "z": [
          0.5516688659323024,
          0.44748528369612967
         ]
        },
        {
         "line": {
          "color": "red"
         },
         "mode": "lines",
         "type": "scatter3d",
         "x": [
          0.7172928043728263,
          0.2214417624220228
         ],
         "y": [
          0.4980450132216155,
          0.26378197684383936
         ],
         "z": [
          0.12374480194176257,
          0.9599580444586999
         ]
        },
        {
         "line": {
          "color": "blue"
         },
         "mode": "lines",
         "type": "scatter3d",
         "x": [
          0.5004192547944509,
          0.28537805689014123
         ],
         "y": [
          0.4965270307357461,
          0.7432801682224284
         ],
         "z": [
          0.6074222570308419,
          0.2213143926039026
         ]
        },
        {
         "line": {
          "color": "blue"
         },
         "mode": "lines",
         "type": "scatter3d",
         "x": [
          0.5004192547944509,
          0.9998710293479534
         ],
         "y": [
          0.4965270307357461,
          0.5450383540279561
         ],
         "z": [
          0.6074222570308419,
          0.5410593970334087
         ]
        },
        {
         "line": {
          "color": "red"
         },
         "mode": "lines",
         "type": "scatter3d",
         "x": [
          0.9998710293479534,
          0.0037824002238134157
         ],
         "y": [
          0.5450383540279561,
          0.5940631676382404
         ],
         "z": [
          0.5410593970334087,
          0.6145728536952141
         ]
        },
        {
         "line": {
          "color": "blue"
         },
         "mode": "lines",
         "type": "scatter3d",
         "x": [
          0.9998710293479534,
          0.5004192547944509
         ],
         "y": [
          0.5450383540279561,
          0.4965270307357461
         ],
         "z": [
          0.5410593970334087,
          0.6074222570308419
         ]
        },
        {
         "line": {
          "color": "red"
         },
         "mode": "lines",
         "type": "scatter3d",
         "x": [
          0.9998710293479534,
          0.08834343105446789
         ],
         "y": [
          0.5450383540279561,
          0.2770917902424595
         ],
         "z": [
          0.5410593970334087,
          0.2290942558524428
         ]
        },
        {
         "line": {
          "color": "red"
         },
         "mode": "lines",
         "type": "scatter3d",
         "x": [
          0.2214417624220228,
          0.7172928043728263
         ],
         "y": [
          0.26378197684383936,
          0.4980450132216155
         ],
         "z": [
          0.9599580444586999,
          0.12374480194176257
         ]
        },
        {
         "line": {
          "color": "red"
         },
         "mode": "lines",
         "type": "scatter3d",
         "x": [
          0.49318653439297283,
          0.6944010112164039
         ],
         "y": [
          0.056058288171230986,
          0.93768483418059
         ],
         "z": [
          0.02058041816511199,
          0.44748528369612967
         ]
        },
        {
         "line": {
          "color": "red"
         },
         "mode": "lines",
         "type": "scatter3d",
         "x": [
          0.08834343105446789,
          0.9998710293479534
         ],
         "y": [
          0.2770917902424595,
          0.5450383540279561
         ],
         "z": [
          0.2290942558524428,
          0.5410593970334087
         ]
        }
       ],
       "layout": {
        "height": 800,
        "scene": {
         "xaxis": {
          "title": {
           "text": "x"
          }
         },
         "yaxis": {
          "title": {
           "text": "y"
          }
         },
         "zaxis": {
          "title": {
           "text": "z"
          }
         }
        },
        "showlegend": false,
        "template": {
         "data": {
          "bar": [
           {
            "error_x": {
             "color": "#2a3f5f"
            },
            "error_y": {
             "color": "#2a3f5f"
            },
            "marker": {
             "line": {
              "color": "#E5ECF6",
              "width": 0.5
             },
             "pattern": {
              "fillmode": "overlay",
              "size": 10,
              "solidity": 0.2
             }
            },
            "type": "bar"
           }
          ],
          "barpolar": [
           {
            "marker": {
             "line": {
              "color": "#E5ECF6",
              "width": 0.5
             },
             "pattern": {
              "fillmode": "overlay",
              "size": 10,
              "solidity": 0.2
             }
            },
            "type": "barpolar"
           }
          ],
          "carpet": [
           {
            "aaxis": {
             "endlinecolor": "#2a3f5f",
             "gridcolor": "white",
             "linecolor": "white",
             "minorgridcolor": "white",
             "startlinecolor": "#2a3f5f"
            },
            "baxis": {
             "endlinecolor": "#2a3f5f",
             "gridcolor": "white",
             "linecolor": "white",
             "minorgridcolor": "white",
             "startlinecolor": "#2a3f5f"
            },
            "type": "carpet"
           }
          ],
          "choropleth": [
           {
            "colorbar": {
             "outlinewidth": 0,
             "ticks": ""
            },
            "type": "choropleth"
           }
          ],
          "contour": [
           {
            "colorbar": {
             "outlinewidth": 0,
             "ticks": ""
            },
            "colorscale": [
             [
              0,
              "#0d0887"
             ],
             [
              0.1111111111111111,
              "#46039f"
             ],
             [
              0.2222222222222222,
              "#7201a8"
             ],
             [
              0.3333333333333333,
              "#9c179e"
             ],
             [
              0.4444444444444444,
              "#bd3786"
             ],
             [
              0.5555555555555556,
              "#d8576b"
             ],
             [
              0.6666666666666666,
              "#ed7953"
             ],
             [
              0.7777777777777778,
              "#fb9f3a"
             ],
             [
              0.8888888888888888,
              "#fdca26"
             ],
             [
              1,
              "#f0f921"
             ]
            ],
            "type": "contour"
           }
          ],
          "contourcarpet": [
           {
            "colorbar": {
             "outlinewidth": 0,
             "ticks": ""
            },
            "type": "contourcarpet"
           }
          ],
          "heatmap": [
           {
            "colorbar": {
             "outlinewidth": 0,
             "ticks": ""
            },
            "colorscale": [
             [
              0,
              "#0d0887"
             ],
             [
              0.1111111111111111,
              "#46039f"
             ],
             [
              0.2222222222222222,
              "#7201a8"
             ],
             [
              0.3333333333333333,
              "#9c179e"
             ],
             [
              0.4444444444444444,
              "#bd3786"
             ],
             [
              0.5555555555555556,
              "#d8576b"
             ],
             [
              0.6666666666666666,
              "#ed7953"
             ],
             [
              0.7777777777777778,
              "#fb9f3a"
             ],
             [
              0.8888888888888888,
              "#fdca26"
             ],
             [
              1,
              "#f0f921"
             ]
            ],
            "type": "heatmap"
           }
          ],
          "histogram": [
           {
            "marker": {
             "pattern": {
              "fillmode": "overlay",
              "size": 10,
              "solidity": 0.2
             }
            },
            "type": "histogram"
           }
          ],
          "histogram2d": [
           {
            "colorbar": {
             "outlinewidth": 0,
             "ticks": ""
            },
            "colorscale": [
             [
              0,
              "#0d0887"
             ],
             [
              0.1111111111111111,
              "#46039f"
             ],
             [
              0.2222222222222222,
              "#7201a8"
             ],
             [
              0.3333333333333333,
              "#9c179e"
             ],
             [
              0.4444444444444444,
              "#bd3786"
             ],
             [
              0.5555555555555556,
              "#d8576b"
             ],
             [
              0.6666666666666666,
              "#ed7953"
             ],
             [
              0.7777777777777778,
              "#fb9f3a"
             ],
             [
              0.8888888888888888,
              "#fdca26"
             ],
             [
              1,
              "#f0f921"
             ]
            ],
            "type": "histogram2d"
           }
          ],
          "histogram2dcontour": [
           {
            "colorbar": {
             "outlinewidth": 0,
             "ticks": ""
            },
            "colorscale": [
             [
              0,
              "#0d0887"
             ],
             [
              0.1111111111111111,
              "#46039f"
             ],
             [
              0.2222222222222222,
              "#7201a8"
             ],
             [
              0.3333333333333333,
              "#9c179e"
             ],
             [
              0.4444444444444444,
              "#bd3786"
             ],
             [
              0.5555555555555556,
              "#d8576b"
             ],
             [
              0.6666666666666666,
              "#ed7953"
             ],
             [
              0.7777777777777778,
              "#fb9f3a"
             ],
             [
              0.8888888888888888,
              "#fdca26"
             ],
             [
              1,
              "#f0f921"
             ]
            ],
            "type": "histogram2dcontour"
           }
          ],
          "mesh3d": [
           {
            "colorbar": {
             "outlinewidth": 0,
             "ticks": ""
            },
            "type": "mesh3d"
           }
          ],
          "parcoords": [
           {
            "line": {
             "colorbar": {
              "outlinewidth": 0,
              "ticks": ""
             }
            },
            "type": "parcoords"
           }
          ],
          "pie": [
           {
            "automargin": true,
            "type": "pie"
           }
          ],
          "scatter": [
           {
            "fillpattern": {
             "fillmode": "overlay",
             "size": 10,
             "solidity": 0.2
            },
            "type": "scatter"
           }
          ],
          "scatter3d": [
           {
            "line": {
             "colorbar": {
              "outlinewidth": 0,
              "ticks": ""
             }
            },
            "marker": {
             "colorbar": {
              "outlinewidth": 0,
              "ticks": ""
             }
            },
            "type": "scatter3d"
           }
          ],
          "scattercarpet": [
           {
            "marker": {
             "colorbar": {
              "outlinewidth": 0,
              "ticks": ""
             }
            },
            "type": "scattercarpet"
           }
          ],
          "scattergeo": [
           {
            "marker": {
             "colorbar": {
              "outlinewidth": 0,
              "ticks": ""
             }
            },
            "type": "scattergeo"
           }
          ],
          "scattergl": [
           {
            "marker": {
             "colorbar": {
              "outlinewidth": 0,
              "ticks": ""
             }
            },
            "type": "scattergl"
           }
          ],
          "scattermap": [
           {
            "marker": {
             "colorbar": {
              "outlinewidth": 0,
              "ticks": ""
             }
            },
            "type": "scattermap"
           }
          ],
          "scattermapbox": [
           {
            "marker": {
             "colorbar": {
              "outlinewidth": 0,
              "ticks": ""
             }
            },
            "type": "scattermapbox"
           }
          ],
          "scatterpolar": [
           {
            "marker": {
             "colorbar": {
              "outlinewidth": 0,
              "ticks": ""
             }
            },
            "type": "scatterpolar"
           }
          ],
          "scatterpolargl": [
           {
            "marker": {
             "colorbar": {
              "outlinewidth": 0,
              "ticks": ""
             }
            },
            "type": "scatterpolargl"
           }
          ],
          "scatterternary": [
           {
            "marker": {
             "colorbar": {
              "outlinewidth": 0,
              "ticks": ""
             }
            },
            "type": "scatterternary"
           }
          ],
          "surface": [
           {
            "colorbar": {
             "outlinewidth": 0,
             "ticks": ""
            },
            "colorscale": [
             [
              0,
              "#0d0887"
             ],
             [
              0.1111111111111111,
              "#46039f"
             ],
             [
              0.2222222222222222,
              "#7201a8"
             ],
             [
              0.3333333333333333,
              "#9c179e"
             ],
             [
              0.4444444444444444,
              "#bd3786"
             ],
             [
              0.5555555555555556,
              "#d8576b"
             ],
             [
              0.6666666666666666,
              "#ed7953"
             ],
             [
              0.7777777777777778,
              "#fb9f3a"
             ],
             [
              0.8888888888888888,
              "#fdca26"
             ],
             [
              1,
              "#f0f921"
             ]
            ],
            "type": "surface"
           }
          ],
          "table": [
           {
            "cells": {
             "fill": {
              "color": "#EBF0F8"
             },
             "line": {
              "color": "white"
             }
            },
            "header": {
             "fill": {
              "color": "#C8D4E3"
             },
             "line": {
              "color": "white"
             }
            },
            "type": "table"
           }
          ]
         },
         "layout": {
          "annotationdefaults": {
           "arrowcolor": "#2a3f5f",
           "arrowhead": 0,
           "arrowwidth": 1
          },
          "autotypenumbers": "strict",
          "coloraxis": {
           "colorbar": {
            "outlinewidth": 0,
            "ticks": ""
           }
          },
          "colorscale": {
           "diverging": [
            [
             0,
             "#8e0152"
            ],
            [
             0.1,
             "#c51b7d"
            ],
            [
             0.2,
             "#de77ae"
            ],
            [
             0.3,
             "#f1b6da"
            ],
            [
             0.4,
             "#fde0ef"
            ],
            [
             0.5,
             "#f7f7f7"
            ],
            [
             0.6,
             "#e6f5d0"
            ],
            [
             0.7,
             "#b8e186"
            ],
            [
             0.8,
             "#7fbc41"
            ],
            [
             0.9,
             "#4d9221"
            ],
            [
             1,
             "#276419"
            ]
           ],
           "sequential": [
            [
             0,
             "#0d0887"
            ],
            [
             0.1111111111111111,
             "#46039f"
            ],
            [
             0.2222222222222222,
             "#7201a8"
            ],
            [
             0.3333333333333333,
             "#9c179e"
            ],
            [
             0.4444444444444444,
             "#bd3786"
            ],
            [
             0.5555555555555556,
             "#d8576b"
            ],
            [
             0.6666666666666666,
             "#ed7953"
            ],
            [
             0.7777777777777778,
             "#fb9f3a"
            ],
            [
             0.8888888888888888,
             "#fdca26"
            ],
            [
             1,
             "#f0f921"
            ]
           ],
           "sequentialminus": [
            [
             0,
             "#0d0887"
            ],
            [
             0.1111111111111111,
             "#46039f"
            ],
            [
             0.2222222222222222,
             "#7201a8"
            ],
            [
             0.3333333333333333,
             "#9c179e"
            ],
            [
             0.4444444444444444,
             "#bd3786"
            ],
            [
             0.5555555555555556,
             "#d8576b"
            ],
            [
             0.6666666666666666,
             "#ed7953"
            ],
            [
             0.7777777777777778,
             "#fb9f3a"
            ],
            [
             0.8888888888888888,
             "#fdca26"
            ],
            [
             1,
             "#f0f921"
            ]
           ]
          },
          "colorway": [
           "#636efa",
           "#EF553B",
           "#00cc96",
           "#ab63fa",
           "#FFA15A",
           "#19d3f3",
           "#FF6692",
           "#B6E880",
           "#FF97FF",
           "#FECB52"
          ],
          "font": {
           "color": "#2a3f5f"
          },
          "geo": {
           "bgcolor": "white",
           "lakecolor": "white",
           "landcolor": "#E5ECF6",
           "showlakes": true,
           "showland": true,
           "subunitcolor": "white"
          },
          "hoverlabel": {
           "align": "left"
          },
          "hovermode": "closest",
          "mapbox": {
           "style": "light"
          },
          "paper_bgcolor": "white",
          "plot_bgcolor": "#E5ECF6",
          "polar": {
           "angularaxis": {
            "gridcolor": "white",
            "linecolor": "white",
            "ticks": ""
           },
           "bgcolor": "#E5ECF6",
           "radialaxis": {
            "gridcolor": "white",
            "linecolor": "white",
            "ticks": ""
           }
          },
          "scene": {
           "xaxis": {
            "backgroundcolor": "#E5ECF6",
            "gridcolor": "white",
            "gridwidth": 2,
            "linecolor": "white",
            "showbackground": true,
            "ticks": "",
            "zerolinecolor": "white"
           },
           "yaxis": {
            "backgroundcolor": "#E5ECF6",
            "gridcolor": "white",
            "gridwidth": 2,
            "linecolor": "white",
            "showbackground": true,
            "ticks": "",
            "zerolinecolor": "white"
           },
           "zaxis": {
            "backgroundcolor": "#E5ECF6",
            "gridcolor": "white",
            "gridwidth": 2,
            "linecolor": "white",
            "showbackground": true,
            "ticks": "",
            "zerolinecolor": "white"
           }
          },
          "shapedefaults": {
           "line": {
            "color": "#2a3f5f"
           }
          },
          "ternary": {
           "aaxis": {
            "gridcolor": "white",
            "linecolor": "white",
            "ticks": ""
           },
           "baxis": {
            "gridcolor": "white",
            "linecolor": "white",
            "ticks": ""
           },
           "bgcolor": "#E5ECF6",
           "caxis": {
            "gridcolor": "white",
            "linecolor": "white",
            "ticks": ""
           }
          },
          "title": {
           "x": 0.05
          },
          "xaxis": {
           "automargin": true,
           "gridcolor": "white",
           "linecolor": "white",
           "ticks": "",
           "title": {
            "standoff": 15
           },
           "zerolinecolor": "white",
           "zerolinewidth": 2
          },
          "yaxis": {
           "automargin": true,
           "gridcolor": "white",
           "linecolor": "white",
           "ticks": "",
           "title": {
            "standoff": 15
           },
           "zerolinecolor": "white",
           "zerolinewidth": 2
          }
         }
        },
        "width": 1000
       }
      }
     },
     "metadata": {},
     "output_type": "display_data"
    }
   ],
   "source": [
    "# Set the default renderer for Plotly to 'vscode'\n",
    "pio.renderers.default = 'vscode' # 'notebook', 'iframe', 'browser', ...\n",
    "\n",
    "# Calculate squared distance\n",
    "def squared_distance(p1, p2):\n",
    "    return sum((p1[i] - p2[i])**2 for i in range(len(p1)))\n",
    "\n",
    "# Create a 3D scatter plot\n",
    "fig = go.Figure()\n",
    "\n",
    "# Add points to the plot\n",
    "for point in points.values():\n",
    "    fig.add_trace(go.Scatter3d(\n",
    "        x=[point[0]], y=[point[1]], z=[point[2]],\n",
    "        mode='markers',\n",
    "        marker=dict(color='black', size=5)\n",
    "    ))\n",
    "\n",
    "# Draw lines with color based on distance\n",
    "tol = p.controls.feastol\n",
    "for i in points:\n",
    "    for j in points:\n",
    "        if i != j:\n",
    "            p1, p2 = points[i], points[j]\n",
    "            dist = squared_distance(p1, p2)\n",
    "            if dist - p.getSolution(t_min) <= tol:\n",
    "                fig.add_trace(go.Scatter3d(\n",
    "                    x=[p1[0], p2[0]], y=[p1[1], p2[1]], z=[p1[2], p2[2]],\n",
    "                    mode='lines',\n",
    "                    line=dict(color='blue')\n",
    "                ))\n",
    "            if 1 - dist <= tol:\n",
    "                fig.add_trace(go.Scatter3d(\n",
    "                    x=[p1[0], p2[0]], y=[p1[1], p2[1]], z=[p1[2], p2[2]],\n",
    "                    mode='lines',\n",
    "                    line=dict(color='red')\n",
    "                ))\n",
    "\n",
    "# Set axis labels\n",
    "fig.update_layout(scene=dict(\n",
    "    xaxis_title='x',\n",
    "    yaxis_title='y',\n",
    "    zaxis_title='z'),\n",
    "    showlegend=False,   # Remove legend entries\n",
    "    width=1000,         # Set figure width\n",
    "    height=800          # Set figure height\n",
    ")\n",
    "\n",
    "# Save the plot as an HTML file\n",
    "fig.write_html(\"interactive_plot.html\")\n",
    "\n",
    "# Show the plot\n",
    "fig.show()\n"
   ]
  }
 ],
 "metadata": {
  "kernelspec": {
   "display_name": "Python 3",
   "language": "python",
   "name": "python3"
  },
  "language_info": {
   "codemirror_mode": {
    "name": "ipython",
    "version": 3
   },
   "file_extension": ".py",
   "mimetype": "text/x-python",
   "name": "python",
   "nbconvert_exporter": "python",
   "pygments_lexer": "ipython3",
   "version": "3.12.9"
  }
 },
 "nbformat": 4,
 "nbformat_minor": 5
}
