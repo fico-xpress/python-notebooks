{
 "cells": [
  {
   "cell_type": "markdown",
   "id": "42902ea1",
   "metadata": {},
   "source": [
    "# Maximum flow problem"
   ]
  },
  {
   "cell_type": "markdown",
   "id": "87820260",
   "metadata": {},
   "source": [
    "***max_flow.ipynb***\n",
    "\n",
    "Finding the maximum number of vertex-disjoint paths between two nodes in a telecommunications network.\n",
    "\n",
    "&copy; Copyright 2025 Fair Isaac Corporation\n",
    "\n",
    "Licensed under the Apache License, Version 2.0 (the \"License\"); you may not use this file except in compliance with the License. You may obtain a copy of the License at http://www.apache.org/licenses/LICENSE-2.0.\n",
    " \n",
    "Unless required by applicable law or agreed to in writing, software distributed under the License is distributed on an \"AS IS\" BASIS, WITHOUT WARRANTIES OR CONDITIONS OF ANY KIND, either express or implied. See the License for the specific language governing permissions and limitations under the License.\n",
    "\n",
    "This example uses FICO&reg; Xpress software. By running it, you agree to the Community License terms of the [Xpress Shrinkwrap License Agreement](https://www.fico.com/en/shrinkwrap-license-agreement-fico-xpress-optimization-suite-on-premises) with respect to the FICO&reg; Xpress software. See the [licensing options](https://www.fico.com/en/fico-xpress-trial-and-licensing-options) overview for additional details and information about obtaining a paid license."
   ]
  },
  {
   "cell_type": "markdown",
   "id": "70ade133",
   "metadata": {},
   "source": [
    "## Problem description and formulation"
   ]
  },
  {
   "cell_type": "markdown",
   "id": "657415c5",
   "metadata": {},
   "source": [
    "We wish to test the reliability of a telecommunications network of eleven sites (nodes) connected by bidirectional data links.  The key requirement is that nodes 10 and 11 (the \\'source\\' and \\'sink\\') must remain connected even if any three other nodes fail.  By finding the maximum number of vertex‑disjoint paths between nodes 10 and 11, we quantify how many simultaneous failures can be tolerated while preserving connectivity.\n",
    "\n",
    "Let $\\mathcal{A} = \\{\\exists(i,j), \\forall i,j \\in \\mathcal{N}\\}$ be the set of existing undirected arcs in the network, and $f_{i,j}$ a binary decision variable equal to 1 if one unit of flow is sent along arc $i$ to $j$, and 0 otherwise. The source ($s = 10$) and sink ($t = 11$) nodes are defined *a priori*.\n",
    "\n",
    "We aim to maximize the number of disjoint paths starting from the source. Each arc $(s\\to j)$ carrying flow represents a distinct path out of $s$.  By maximizing this sum, we want to pack as many vertex‑disjoint routes as possible:\n",
    "\n",
    "$$\n",
    "\\max \\sum_{(s,j)\\in \\mathcal{A}} f_{s,j}\n",
    "$$\n",
    "\n",
    "* Flow conservation at intermediate nodes:\n",
    "   $$\n",
    "   \\sum_{(i,k)\\in \\mathcal{A}} f_{i,k}\n",
    "   \\;=\\;\n",
    "   \\sum_{(k,i)\\in \\mathcal{A}} f_{k,i},\n",
    "   \\quad\\forall\\,i\\in \\mathcal{N}\\setminus\\{s,t\\}.\n",
    "   $$\n",
    "   - Ensures that for any node $i$ other than $s$ or $t$, the number of incoming flow units equals the number of outgoing units, creating continuous paths.\n",
    "\n",
    "* Vertex capacity (at most one outgoing):\n",
    "   $$\n",
    "   \\sum_{(i,k)\\in \\mathcal{A}} f_{i,k}\n",
    "   \\;\\le\\; 1,\n",
    "   \\quad\\forall\\,i\\in \\mathcal{N}\\setminus\\{s,t\\}.\n",
    "   $$\n",
    "   - Limits each intermediate node to at most one unit of outgoing flow, preventing two paths from sharing that node.\n",
    "\n",
    "* No flow back into the source: \n",
    "   $$\n",
    "   \\sum_{(k,s)\\in \\mathcal{A}} f_{k,s}\n",
    "   \\;=\\; 0.\n",
    "   $$\n",
    "   - Do not any path from re‑entering the source, preserving a purely outward flow interpretation."
   ]
  },
  {
   "cell_type": "markdown",
   "id": "5899ee3f",
   "metadata": {},
   "source": [
    "## Data preparation"
   ]
  },
  {
   "cell_type": "markdown",
   "id": "d94ce83e",
   "metadata": {},
   "source": [
    "We firstly import the necessary packages and define the node set `NODES = [1…11]` and define `SOURCE=10` and `SINK=11`. We then list all the undirected links in the network in `base_arcs`, and create the directed arc list `ARCS` by adding both $(u,v)$ and $(v,u)$ for each undirected pair. "
   ]
  },
  {
   "cell_type": "code",
   "execution_count": 2,
   "id": "c59e2cec",
   "metadata": {},
   "outputs": [],
   "source": [
    "import xpress as xp\n",
    "import matplotlib.pyplot as plt\n",
    "\n",
    "# Define nodes, source, and sink\n",
    "NODES = list(range(1, 12))  \n",
    "SOURCE, SINK = 10, 11\n",
    "\n",
    "# Undirected base arcs\n",
    "base_arcs = [\n",
    "    (1, 2), (1, 3), (1, 11),\n",
    "    (2, 3), (2, 8), (2, 9),\n",
    "    (3, 4), (3, 9), (3, 10), (3, 11),\n",
    "    (4, 5), (4, 6), (4, 11),\n",
    "    (5, 9), (5, 11),\n",
    "    (6, 7), (6, 9), (6, 10),\n",
    "    (7, 8), (7, 10),\n",
    "    (8, 10),\n",
    "    (9, 10)\n",
    "]\n",
    "\n",
    "# Make arcs bidirectional\n",
    "ARCS = []\n",
    "for u, v in base_arcs:\n",
    "    ARCS.append((u, v))\n",
    "    ARCS.append((v, u))"
   ]
  },
  {
   "cell_type": "markdown",
   "id": "2f3babeb",
   "metadata": {},
   "source": [
    "## Model implementation"
   ]
  },
  {
   "cell_type": "markdown",
   "id": "a234848b",
   "metadata": {},
   "source": [
    "We create an Xpress problem named **Maxflow** and define a set of binary variables `flow` passing the list of arcs to [p.addVariables()](https://www.fico.com/fico-xpress-optimization/docs/latest/solver/optimizer/python/HTML/problem.addVariables.html). This creates a dictionary whose keys are a tuple of indices.\n",
    "\n",
    "The **objective** is added via [p.setObjective()](https://www.fico.com/fico-xpress-optimization/docs/latest/solver/optimizer/python/HTML/problem.setObjective.html) to maximize the total flow leaving the source node. Then, three **constraint** sets are added by passing expressions directly to [p.addConstraint()](https://www.fico.com/fico-xpress-optimization/docs/latest/solver/optimizer/python/HTML/problem.addConstraint.html) with list comprehension.\n",
    "\n",
    "After constructing the model, we invoke [p.optimize()](https://www.fico.com/fico-xpress-optimization/docs/latest/solver/optimizer/python/HTML/problem.optimize.html) to solve it.  We then retrieve the objective value to report the maximum number of disjoint paths, and report each path by tracing through arcs with $f_{i,j}=1$. "
   ]
  },
  {
   "cell_type": "code",
   "execution_count": null,
   "id": "49ae6aa7",
   "metadata": {},
   "outputs": [
    {
     "name": "stdout",
     "output_type": "stream",
     "text": [
      "Total number of paths: 4\n",
      "10 - 3 - 11\n",
      "10 - 6 - 4 - 11\n",
      "10 - 8 - 2 - 1 - 11\n",
      "10 - 9 - 5 - 11\n"
     ]
    }
   ],
   "source": [
    "p = xp.problem(name=\"Maxflow\")\n",
    "\n",
    "# Binary variables for each directed arc\n",
    "flow = p.addVariables(ARCS, vartype=xp.binary, name=\"f\")\n",
    "\n",
    "# Objective function: maximize number of outgoing flow from SOURCE\n",
    "p.setObjective(\n",
    "    xp.Sum(flow[(SOURCE, n)] for n in NODES if (SOURCE, n) in flow),\n",
    "    sense=xp.maximize\n",
    ")\n",
    "\n",
    "# Constraints:\n",
    "# 1. Conservation: sum incoming = sum outgoing\n",
    "p.addConstraint(\n",
    "    xp.Sum(flow[(m,n)] for m in NODES if (m,n) in flow)\n",
    "  == xp.Sum(flow[(n,m)] for m in NODES if (n,m) in flow)\n",
    "    for n in NODES if n not in (SOURCE, SINK)\n",
    ")\n",
    "\n",
    "# 2. Capacity: at most one outgoing unit\n",
    "p.addConstraint(\n",
    "    xp.Sum(flow[(n,m)] for m in NODES if (n,m) in flow)\n",
    "    <= 1\n",
    "    for n in NODES if n not in (SOURCE, SINK)\n",
    ")\n",
    "\n",
    "# 3. No return to SOURCE\n",
    "p.addConstraint(\n",
    "    xp.Sum(flow[(m,SOURCE)] for m in NODES if (m, SOURCE) in flow)\n",
    "    == 0\n",
    ")\n",
    "\n",
    "# Solve the problem\n",
    "p.controls.outputlog = 0        # Turn off solver logging for cleaner output\n",
    "p.optimize()\n",
    "\n",
    "# Print total number of disjoint paths\n",
    "num_paths = int(p.attributes.objval)\n",
    "print(\"Total number of paths:\", num_paths)\n",
    "\n",
    "# Print each path\n",
    "paths = []\n",
    "sol = p.getSolution(flow)\n",
    "for n in NODES:\n",
    "    if (SOURCE, n) in flow and sol[(SOURCE, n)] > 0.5:\n",
    "        path = [SOURCE, n]\n",
    "        curr = n\n",
    "        while curr != SINK:\n",
    "            for m in NODES:\n",
    "                if sol.get((curr, m)) is not None and sol.get((curr, m)) > 0.5:\n",
    "                    path.append(m)\n",
    "                    curr = m\n",
    "                    break\n",
    "        paths.append(path)\n",
    "        print(\" - \".join(map(str, path)))"
   ]
  },
  {
   "cell_type": "markdown",
   "id": "83723816",
   "metadata": {},
   "source": [
    "## Visualization"
   ]
  },
  {
   "cell_type": "markdown",
   "id": "3baf5545",
   "metadata": {},
   "source": [
    "The visualization consists of three key elements:\n",
    "* **Base network**: represented by grey lines, each corresponding to an undirected link from the `base_arcs` set.\n",
    "* **Flow paths**: shown as in differently coloured lines, indicating each directed arc where `flow[idx] = 1`.\n",
    "* **Nodes**: depicted as white circles placed at each $(x, y)$ coordinate, with the node number displayed above each circle. The node positions are defined by the node coordinates loaded from `POS_LIST` and stored in the dictionary `pos[node]`."
   ]
  },
  {
   "cell_type": "code",
   "execution_count": 4,
   "id": "85af9215",
   "metadata": {},
   "outputs": [
    {
     "data": {
      "image/png": "[encoded data removed]",
      "text/plain": [
       "<Figure size 800x600 with 1 Axes>"
      ]
     },
     "metadata": {},
     "output_type": "display_data"
    }
   ],
   "source": [
    "# Visualization: different colors per path\n",
    "POS_LIST = [\n",
    "    (40, 10), (70, 10), (40, 30), (10, 70), (40, 50),\n",
    "    (70, 70), (100, 70), (100, 10), (70, 50), (85, 30), (10, 50)\n",
    "]\n",
    "pos = {i+1: POS_LIST[i] for i in range(len(POS_LIST))}\n",
    "\n",
    "fig, ax = plt.subplots(figsize=(8, 6))\n",
    "# Draw base network\n",
    "for u, v in base_arcs:\n",
    "    x1, y1 = pos[u]\n",
    "    x2, y2 = pos[v]\n",
    "    ax.plot([x1, x2], [y1, y2], color='grey', linewidth=1)\n",
    "\n",
    "# Highlight flow arcs\n",
    "colors = ['red', 'orange', 'yellow', 'green']  # one color per path\n",
    "for idx, pth in enumerate(paths):\n",
    "    color = colors[idx] if idx < len(colors) else 'black'\n",
    "    for u, v in zip(pth, pth[1:]):\n",
    "        x1, y1 = pos[u]\n",
    "        x2, y2 = pos[v]\n",
    "        ax.plot([x1, x2], [y1, y2], color=color, linewidth=2)\n",
    "\n",
    "# Draw nodes and labels\n",
    "for n, (x, y) in pos.items():\n",
    "    ax.scatter(x, y, s=100, facecolor='white', edgecolor='black', zorder=3)\n",
    "    ax.text(x, y+3, str(n), ha='center')\n",
    "\n",
    "ax.set_aspect('equal')\n",
    "ax.axis('off')\n",
    "ax.set_title('Disjoint Paths')\n",
    "plt.tight_layout()\n",
    "plt.show()\n"
   ]
  }
 ],
 "metadata": {
  "kernelspec": {
   "display_name": "Python 3",
   "language": "python",
   "name": "python3"
  },
  "language_info": {
   "codemirror_mode": {
    "name": "ipython",
    "version": 3
   },
   "file_extension": ".py",
   "mimetype": "text/x-python",
   "name": "python",
   "nbconvert_exporter": "python",
   "pygments_lexer": "ipython3",
   "version": "3.12.9"
  }
 },
 "nbformat": 4,
 "nbformat_minor": 5
}
