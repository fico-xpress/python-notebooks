{
 "cells": [
  {
   "cell_type": "markdown",
   "id": "1153f842",
   "metadata": {},
   "source": [
    "# **Bin packing problem**"
   ]
  },
  {
   "cell_type": "markdown",
   "id": "34635dc2",
   "metadata": {},
   "source": [
    "***bin_packing.ipynb***\n",
    "\n",
    "Pack $n$ items into $m$ bins minimizing the number of bins used. Showcases the use of the `xp.Dot` operator.\n",
    "\n",
    "&copy; Copyright 2025 Fair Isaac Corporation\n",
    "\n",
    "Licensed under the Apache License, Version 2.0 (the \"License\"); you may not use this file except in compliance with the License. You may obtain a copy of the License at http://www.apache.org/licenses/LICENSE-2.0.\n",
    " \n",
    "Unless required by applicable law or agreed to in writing, software distributed under the License is distributed on an \"AS IS\" BASIS, WITHOUT WARRANTIES OR CONDITIONS OF ANY KIND, either express or implied. See the License for the specific language governing permissions and limitations under the License.\n",
    "\n",
    "This example uses FICO&reg; Xpress software. By running it, you agree to the Community License terms of the [Xpress Shrinkwrap License Agreement](https://community.fico.com/s/contentdocument/06980000002h0i5AAA) with respect to the FICO&reg; Xpress software. See the [licensing options](https://www.fico.com/en/fico-xpress-trial-and-licensing-options) overview for additional details and information about obtaining a paid license."
   ]
  },
  {
   "cell_type": "markdown",
   "id": "28f7d116",
   "metadata": {},
   "source": [
    "## Problem description and formulation\n",
    "\n"
   ]
  },
  {
   "cell_type": "markdown",
   "id": "243e0782",
   "metadata": {},
   "source": [
    "There are $n$ items, each with a positive integer size $s_i, \\forall i \\in \\mathcal{I}$, and $m$ bins, each with capacity $c_b, \\forall b \\in \\mathcal{B}$. Our goal is to pack every item into a bin so as to **minimize** the total number of bins in use. \n",
    "\n",
    "We introduce two families of binary variables:\n",
    "\n",
    "$$\n",
    "x_{b,i} =\n",
    "\\begin{cases}\n",
    "1, & \\text{if item }i\\text{ is placed into bin }b,\\\\\n",
    "0, & \\text{otherwise},\n",
    "\\end{cases}\n",
    "$$\n",
    "$$\n",
    "y_b =\n",
    "\\begin{cases}\n",
    "1, & \\text{if bin }b\\text{ is used},\\\\\n",
    "0, & \\text{otherwise}.\n",
    "\\end{cases}\n",
    "$$\n",
    "\n",
    "- $x_{b,i}$ ensures each item is assigned to exactly one bin.  \n",
    "- $y_b$ allows us to count how many bins are actually used.\n",
    "\n",
    "The objective is to minimize the total number of bins used:\n",
    "\n",
    "$$\n",
    "\\min \\sum_{b \\in \\mathcal{B}} y_b.\n",
    "$$\n",
    "\n",
    "Subject to the following constraints:\n",
    "\n",
    "* Each item must go into exactly one bin:\n",
    "   $$\n",
    "   \\sum_{b \\in \\mathcal{B}} x_{b,i} = 1,\n",
    "   \\quad \\forall i \\in \\mathcal{I}.\n",
    "   $$\n",
    "\n",
    "* Bin capacity linking:\n",
    "   $$\n",
    "   \\sum_{i \\in \\mathcal{I}} s_i\\,x_{b,i}\n",
    "   \\le C_b\\,y_b,\n",
    "   \\quad \\forall b \\in \\mathcal{B}.\n",
    "   $$\n",
    "\n"
   ]
  },
  {
   "cell_type": "markdown",
   "id": "c3046c9c",
   "metadata": {},
   "source": [
    "## Data preparation"
   ]
  },
  {
   "cell_type": "markdown",
   "id": "e7672ce7",
   "metadata": {},
   "source": [
    "In this step, all the necessary packages are imported, the scalar parameters and ranges for data generation are defined. Then, item sizes and bin capacities are generated as `NumPy` arrays using `np.random.randint()` within the pre-defined ranges."
   ]
  },
  {
   "cell_type": "code",
   "execution_count": 1,
   "id": "ff1f8f4b",
   "metadata": {},
   "outputs": [],
   "source": [
    "import xpress as xp\n",
    "import numpy as np\n",
    "import matplotlib.pyplot as plt\n",
    "\n",
    "# Parameters\n",
    "NITEMS = 20         # Number of items\n",
    "NBINS = 11          # Number of bins\n",
    "MinSize = 20        # Minimum size of an item\n",
    "MaxSize = 39        # Maximum size of an item\n",
    "MinCapacity = 40    # Minimum capacity of a bin\n",
    "MaxCapacity = 89    # Maximum capacity of a bin\n",
    "\n",
    "# Random data generation for item sizes and bin capacities\n",
    "np.random.seed(2)\n",
    "sizes = np.random.randint(MinSize, MaxSize + 1, size=NITEMS)\n",
    "capacities = np.random.randint(MinCapacity, MaxCapacity + 1, size=NBINS)\n",
    "total_size = sizes.sum()"
   ]
  },
  {
   "cell_type": "markdown",
   "id": "518c97e2",
   "metadata": {},
   "source": [
    "## Model implementation"
   ]
  },
  {
   "cell_type": "markdown",
   "id": "392dfdf5",
   "metadata": {},
   "source": [
    "We create an Xpress problem named **Binpacking** and define two sets of binary variables (`contains` and `binused`$) by calling[`p.addVariables()`](https://www.fico.com/fico-xpress-optimization/docs/latest/solver/optimizer/python/HTML/problem.addVariables.html). When passing integer arguments to [p.addVariables()](https://www.fico.com/fico-xpress-optimization/docs/latest/solver/optimizer/python/HTML/problem.addVariables.html), a *NumPy* arrays of variables is created.\n",
    "\n",
    "The objective function is created and added to the problem by passing the summation over the array of variables `binused` to [`p.setObjective()`](https://www.fico.com/fico-xpress-optimization/docs/latest/solver/optimizer/python/HTML/problem.setObjective.html). The optimization sense is to minimize the function, by default.\n",
    "\n",
    "Similarly, constraints are created and added to the problem by passing the corresponding expressions using list comprehension to [`p.addConstraint()`](https://www.fico.com/fico-xpress-optimization/docs/latest/solver/optimizer/python/HTML/problem.addConstraint.html). \n",
    "\n",
    "The set of capacity constraints leverages the use of the [`xp.Dot()`](https://www.fico.com/fico-xpress-optimization/docs/latest/solver/optimizer/python/HTML/xpress.Dot.html) operator to perform the  dot‑product between the `contains` variable matrix and the `sizes` array, generating `NBINS` constraints at once with a compact and more efficient expression. The right-hand-sides of those each constraints are mapped to the  array resulting from the multiplication between the `capacity` and the `binused` arrays.\n",
    "\n",
    "After building the model, we turn off solver logging using the `OUTPUTLOG` control and call [`p.optimize()`](https://www.fico.com/fico-xpress-optimization/docs/latest/solver/optimizer/python/HTML/problem.optimize.html) to solve the problem, then extract the solutions and print both the number of bins used and the detailed item‑to‑bin assignments."
   ]
  },
  {
   "cell_type": "code",
   "execution_count": null,
   "id": "a3ba639b",
   "metadata": {},
   "outputs": [
    {
     "name": "stdout",
     "output_type": "stream",
     "text": [
      "Total number of bins used: 9.0\n",
      "Bin 1 (cap 79): items 4(28) 10(22) 15(27)\n",
      "Bin 2 (cap 78): items 16(23) 18(24) 19(30)\n",
      "Bin 3 (cap 82): items 12(31) 14(25) 17(26)\n",
      "Bin 4 (cap 73): items 2(35) 7(31)\n",
      "Bin 5 (cap 43): items 6(38)\n",
      "Bin 7 (cap 64): items 3(33) 20(31)\n",
      "Bin 8 (cap 44): items 11(37)\n",
      "Bin 9 (cap 86): items 1(28) 8(28) 9(27)\n",
      "Bin 11 (cap 71): items 5(31) 13(35)\n"
     ]
    }
   ],
   "source": [
    "p = xp.problem(name=\"Binpacking\")\n",
    "\n",
    "# Decision variables:\n",
    "# Binary variables equal to 1 iff item i is placed in bin b, and 0 otherwise\n",
    "contains = p.addVariables(NBINS, NITEMS, vartype=xp.binary, name=\"c\")\n",
    "# Binary variables equal to 1 iff bin b is used, and 0 otherwise\n",
    "binused  = p.addVariables(NBINS, vartype=xp.binary, name=\"u\")\n",
    "\n",
    "# Objective function: minimize number of bins used\n",
    "p.setObjective(xp.Sum(binused), sense=xp.minimize)\n",
    "\n",
    "# Constraint 1: each item in exactly one bin\n",
    "p.addConstraint(xp.Sum(contains[b, i] for b in range(NBINS)) == 1 for i in range(NITEMS))\n",
    "\n",
    "# Constraint 2: Capacity constraints\n",
    "p.addConstraint(xp.Dot(contains, sizes) <= capacities * binused)\n",
    "\n",
    "# Solve the problem\n",
    "p.controls.outputlog = 0  # Turn off solver logging for cleaner output\n",
    "p.optimize()\n",
    "\n",
    "ct = p.getSolution(contains)\n",
    "used = p.getSolution(binused)\n",
    "\n",
    "# Print results\n",
    "print(\"Total number of bins used:\", used.sum())\n",
    "for b in range(NBINS):\n",
    "    if used[b]:\n",
    "        items = [i+1 for i in range(NITEMS) if ct[b, i] == 1]\n",
    "        sizes_str = \" \".join(f\"{i}({sizes[i-1]})\" for i in items)\n",
    "        print(f\"Bin {b+1} (cap {capacities[b]}): items {sizes_str}\")"
   ]
  },
  {
   "cell_type": "markdown",
   "id": "468c839f",
   "metadata": {},
   "source": [
    "## Visualization"
   ]
  },
  {
   "cell_type": "markdown",
   "id": "50400050",
   "metadata": {},
   "source": [
    "The code below allows to visualize each bin used with a stacked bar formed by the sizes of the items assigned to it, and a dashed line marking the bin capacity."
   ]
  },
  {
   "cell_type": "code",
   "execution_count": 4,
   "id": "2d68f2bb",
   "metadata": {},
   "outputs": [
    {
     "data": {
      "image/png": "[encoded data removed]",
      "text/plain": [
       "<Figure size 1200x600 with 1 Axes>"
      ]
     },
     "metadata": {},
     "output_type": "display_data"
    }
   ],
   "source": [
    "# Visualization:\n",
    "fig, ax = plt.subplots(figsize=(12, 6))\n",
    "for b in range(NBINS):\n",
    "    y_offset = 0\n",
    "    for i in range(NITEMS):\n",
    "        if ct[b, i]:\n",
    "            rect = plt.Rectangle((b*1.2, y_offset), 1, sizes[i], edgecolor='red', facecolor='skyblue')\n",
    "            ax.add_patch(rect)\n",
    "            y_offset += sizes[i]\n",
    "    ax.hlines(capacities[b], b*1.2, b*1.2 + 1, linestyle='dashed')\n",
    "\n",
    "ax.set_xlim(-0.5, NBINS*1.2)\n",
    "ax.set_ylim(0, capacities.max() + 10)\n",
    "ax.set_xlabel('Bin index', fontsize=12)\n",
    "ax.set_ylabel('Capacity / Size', fontsize=12)\n",
    "ax.set_title('Bin Packing Solution')\n",
    "ax.set_xticks([b*1.2 + 0.5 for b in range(NBINS)])\n",
    "ax.set_xticklabels([str(b+1) for b in range(NBINS)])\n",
    "plt.tight_layout()\n",
    "plt.show()\n"
   ]
  }
 ],
 "metadata": {
  "kernelspec": {
   "display_name": "Python 3",
   "language": "python",
   "name": "python3"
  },
  "language_info": {
   "codemirror_mode": {
    "name": "ipython",
    "version": 3
   },
   "file_extension": ".py",
   "mimetype": "text/x-python",
   "name": "python",
   "nbconvert_exporter": "python",
   "pygments_lexer": "ipython3",
   "version": "3.12.9"
  }
 },
 "nbformat": 4,
 "nbformat_minor": 5
}
